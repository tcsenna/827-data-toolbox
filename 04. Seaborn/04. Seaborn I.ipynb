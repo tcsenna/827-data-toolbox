{
 "cells": [
  {
   "cell_type": "markdown",
   "metadata": {},
   "source": [
    "\n",
    "# 4. Seaborn\n",
    "---\n",
    "\n",
    "<img style=\"position: absolute; top: 15px; right: 110px; border-radius: 5px;\" src=\"https://seaborn.pydata.org/_static/logo-wide-lightbg.svg\" width=\"140px\" />\n",
    "<img src=\"https://selecao.letscode.com.br/favicon.png\" width=\"40px\" style=\"position: absolute; top: 15px; right: 40px; border-radius: 5px;\" />\n",
    "</div>"
   ]
  },
  {
   "cell_type": "markdown",
   "metadata": {},
   "source": [
    "<div style=\"display: flex; justify-content: space-around\">\n",
    "<a href=https://seaborn.pydata.org/examples/scatterplot_matrix.html>\n",
    "<img src=\"https://seaborn.pydata.org/_static/scatterplot_matrix_thumb.png\" height=\"135\" width=\"135\">\n",
    "</a>\n",
    "\n",
    "<a href=https://seaborn.pydata.org/examples/errorband_lineplots.html>\n",
    "<img src=\"https://seaborn.pydata.org/_static/errorband_lineplots_thumb.png\" height=\"135\" width=\"135\">\n",
    "</a>\n",
    "\n",
    "\n",
    "<a href=https://seaborn.pydata.org/examples/many_facets.html>\n",
    "<img src=\"https://seaborn.pydata.org/_static/many_facets_thumb.png\" height=\"135\" width=\"135\">\n",
    "</a>\n",
    "\n",
    "<a href=https://seaborn.pydata.org/examples/structured_heatmap.html>\n",
    "<img src=\"https://seaborn.pydata.org/_static/structured_heatmap_thumb.png\" height=\"135\" width=\"135\">\n",
    "</a>\n",
    "\n",
    "<a href=https://seaborn.pydata.org/examples/horizontal_boxplot.html>\n",
    "<img src=\"https://seaborn.pydata.org/_static/horizontal_boxplot_thumb.png\" height=\"135\" width=\"135\">\n",
    "</a>\n",
    "</div>\n",
    "\n",
    "<br>\n",
    "\n",
    "[Seaborn](https://seaborn.pydata.org/) é uma biblioteca de visualização de dados Python baseada no matplotlib. Ela fornece uma interface de alto nível para desenhar gráficos estatísticos atraentes e informativos.\n",
    "\n",
    "## Antes de tudo\n",
    "\n",
    "### Instalação\n",
    "\n",
    "Se você tem o Anaconda instalado, você provavelmente já possui o Seaborn instalado.\n",
    "\n",
    "Para checar, rode o seguinte comando no Jupyter Notebook ou interpretador do python:\n",
    "\n",
    "```python\n",
    "import seaborn\n",
    "```\n",
    "\n",
    "Se não der erro, é porque está tudo ok!\n",
    "\n",
    "Caso você tenha um erro, será necessário instalar a biblioteca. Para isso, rode o seguinte comando no prompt/terminal de comando:\n",
    "\n",
    "```\n",
    "pip install seaborn\n",
    "```\n",
    "\n",
    "Em caso de problemas nessa parte, entre em contato no chat da sua turma ou no Q&A.\n",
    "\n",
    "### Importando a biblioteca\n",
    "\n",
    "Assim como importamos pandas como pd e numpy como np, existe uma convenção de se importar  seaborn como sns, como mostrado abaixo:"
   ]
  },
  {
   "cell_type": "code",
   "execution_count": null,
   "metadata": {},
   "outputs": [],
   "source": [
    "pip install -U seaborn"
   ]
  },
  {
   "cell_type": "code",
   "execution_count": 1,
   "metadata": {},
   "outputs": [],
   "source": [
    "# Importação das bibliotecas\n"
   ]
  },
  {
   "cell_type": "code",
   "execution_count": 2,
   "metadata": {},
   "outputs": [],
   "source": [
    "# Verificando a versão da biblioteca do Seaborn\n"
   ]
  },
  {
   "cell_type": "markdown",
   "metadata": {},
   "source": [
    "## API\n",
    "\n",
    "Sendo uma biblioteca construída como uma casa envolta do matplotlib, **tudo que aprendemos sobre matplotlib se aplica aqui** em termos de conceitos (*Figure*, *Axes*, *labels* dos eixos, etc). Porém, o seaborn abstrai para o usuário da biblioteca algumas complexidades, tendo uma excelente integração com DataFrames do pandas.\n",
    "\n",
    "Como mostra a [documentação da sua API](https://seaborn.pydata.org/api.html), ela é separada em 9 grupos, como mostra a lista a seguir:\n",
    "\n",
    "- Gráficos relacionais\n",
    "    - gráficos básicos, exemplos: dispersão e linha\n",
    "- Categóricos\n",
    "    - exemplo: gráfico de barras, diagrama de caixa\n",
    "- Distribuição\n",
    "    - exemplo: gráfico de distribuição\n",
    "- Regressão:\n",
    "    - exemplo regressão linear\n",
    "- Matriz\n",
    "    - exemplo: mapa de calor\n",
    "- Multi-gráfico\n",
    "    - exemplo: pairplot, jointplot, para múltiplos gráficos em 1 passo\n",
    "- Controle de estilo\n",
    "    - exemplos: set, set_style para configurar estilos\n",
    "- Paleta de cores\n",
    "    - exemplos: dark_pallete, light_pallete para configurar as cores utilizadas\n",
    "- Utilitários\n",
    "    - load_dataset: carregar dados para exemplos\n",
    "    \n",
    "Veremos agora as funções mais comumente utilizadas do Seaborn. \n",
    "\n",
    "## Análise dos dados\n",
    "\n",
    "Antes de começar, vamos dar uma olhada nos dados que iremos utilizar em boa parte dos exemplos: um *dataset* de gorjetas ou *tips*.\n",
    "\n",
    "Iremos utilizar a função utilitária que vem com o seaborn, a <span style=\"font-family:monospace;\">load_dataset</span>, para carregar os dados, que já é um DataFrame:"
   ]
  },
  {
   "cell_type": "code",
   "execution_count": null,
   "metadata": {},
   "outputs": [],
   "source": []
  },
  {
   "cell_type": "code",
   "execution_count": null,
   "metadata": {},
   "outputs": [],
   "source": []
  },
  {
   "cell_type": "code",
   "execution_count": null,
   "metadata": {},
   "outputs": [],
   "source": []
  },
  {
   "cell_type": "markdown",
   "metadata": {},
   "source": [
    "## Aplicando sobre gráficos que criamos com o Matplotlib"
   ]
  },
  {
   "cell_type": "markdown",
   "metadata": {},
   "source": [
    "### Lineplot"
   ]
  },
  {
   "cell_type": "code",
   "execution_count": null,
   "metadata": {},
   "outputs": [],
   "source": []
  },
  {
   "cell_type": "code",
   "execution_count": null,
   "metadata": {},
   "outputs": [],
   "source": []
  },
  {
   "cell_type": "code",
   "execution_count": null,
   "metadata": {},
   "outputs": [],
   "source": []
  },
  {
   "cell_type": "code",
   "execution_count": null,
   "metadata": {},
   "outputs": [],
   "source": []
  },
  {
   "cell_type": "markdown",
   "metadata": {},
   "source": [
    "### Scatterplot"
   ]
  },
  {
   "cell_type": "code",
   "execution_count": null,
   "metadata": {},
   "outputs": [],
   "source": []
  },
  {
   "cell_type": "code",
   "execution_count": null,
   "metadata": {},
   "outputs": [],
   "source": []
  },
  {
   "cell_type": "code",
   "execution_count": null,
   "metadata": {},
   "outputs": [],
   "source": []
  },
  {
   "cell_type": "markdown",
   "metadata": {},
   "source": [
    "### Barplot"
   ]
  },
  {
   "cell_type": "code",
   "execution_count": null,
   "metadata": {},
   "outputs": [],
   "source": []
  },
  {
   "cell_type": "code",
   "execution_count": null,
   "metadata": {},
   "outputs": [],
   "source": []
  },
  {
   "cell_type": "code",
   "execution_count": null,
   "metadata": {},
   "outputs": [],
   "source": []
  },
  {
   "cell_type": "markdown",
   "metadata": {},
   "source": [
    "## 1. Gráfico de Distribuição\n",
    "---\n",
    "\n",
    "### 1.1. `histplot`"
   ]
  },
  {
   "cell_type": "code",
   "execution_count": null,
   "metadata": {},
   "outputs": [],
   "source": []
  },
  {
   "cell_type": "code",
   "execution_count": null,
   "metadata": {},
   "outputs": [],
   "source": []
  },
  {
   "cell_type": "code",
   "execution_count": null,
   "metadata": {},
   "outputs": [],
   "source": []
  },
  {
   "cell_type": "markdown",
   "metadata": {},
   "source": [
    "### 1.2. `jointplot`\n",
    "\n",
    "jointplot() permite combinar basicamente dois distplots() para dados bivariados. Podemos visualizar os dados das seguintes formas (usando o **kind**):\n",
    "* “scatter” \n",
    "* “reg” \n",
    "* “resid” \n",
    "* “kde” \n",
    "* “hex”"
   ]
  },
  {
   "cell_type": "code",
   "execution_count": null,
   "metadata": {},
   "outputs": [],
   "source": []
  },
  {
   "cell_type": "code",
   "execution_count": null,
   "metadata": {},
   "outputs": [],
   "source": []
  },
  {
   "cell_type": "code",
   "execution_count": null,
   "metadata": {},
   "outputs": [],
   "source": []
  },
  {
   "cell_type": "markdown",
   "metadata": {},
   "source": [
    "### 1.3. `pairplot`\n",
    "\n",
    "O `pairplot` irá traçar distribuições entre pares em todo o DataFrame (para as colunas numéricas) e suporta um argumento de matiz de cor (para colunas categóricas)."
   ]
  },
  {
   "cell_type": "code",
   "execution_count": null,
   "metadata": {},
   "outputs": [],
   "source": []
  },
  {
   "cell_type": "code",
   "execution_count": null,
   "metadata": {},
   "outputs": [],
   "source": []
  },
  {
   "cell_type": "code",
   "execution_count": null,
   "metadata": {},
   "outputs": [],
   "source": []
  },
  {
   "cell_type": "markdown",
   "metadata": {},
   "source": [
    "### 5. `lmplot`"
   ]
  },
  {
   "cell_type": "code",
   "execution_count": null,
   "metadata": {},
   "outputs": [],
   "source": []
  },
  {
   "cell_type": "code",
   "execution_count": null,
   "metadata": {},
   "outputs": [],
   "source": []
  },
  {
   "cell_type": "code",
   "execution_count": null,
   "metadata": {},
   "outputs": [],
   "source": []
  },
  {
   "cell_type": "code",
   "execution_count": null,
   "metadata": {},
   "outputs": [],
   "source": []
  },
  {
   "cell_type": "markdown",
   "metadata": {
    "tags": []
   },
   "source": [
    "## 2. Gráficos Categóricos\n",
    "---\n",
    "\n",
    "### 2.1. `countplot`\n",
    "\n",
    "Um gráfico apresentar a contagem de dados. Vamos testar visualizando a contagem de dados relacionados aos dias da semana."
   ]
  },
  {
   "cell_type": "code",
   "execution_count": null,
   "metadata": {},
   "outputs": [],
   "source": []
  },
  {
   "cell_type": "code",
   "execution_count": null,
   "metadata": {},
   "outputs": [],
   "source": []
  },
  {
   "cell_type": "markdown",
   "metadata": {},
   "source": [
    "Agora, vamos seperar os dados pelo horário."
   ]
  },
  {
   "cell_type": "code",
   "execution_count": null,
   "metadata": {},
   "outputs": [],
   "source": []
  },
  {
   "cell_type": "markdown",
   "metadata": {},
   "source": [
    "### 2.2. `barplot`\n",
    "\n",
    "Gráfico de barras."
   ]
  },
  {
   "cell_type": "code",
   "execution_count": null,
   "metadata": {},
   "outputs": [],
   "source": []
  },
  {
   "cell_type": "markdown",
   "metadata": {},
   "source": [
    "### 2.3. `boxplot`\n",
    "\n",
    "![](data:image/png;base64,iVBORw0KGgoAAAANSUhEUgAAAYUAAACBCAMAAAAYG1bYAAAAjVBMVEX///8AAAC2trZhYWH8/Pz4+Pj29vbg4ODw8PD09PQmJibX19fq6urn5+fk5OTc3NyLi4vIyMh6enoUFBSrq6tSUlJ0dHRvb2/S0tI2NjYfHx++vr6ysrIKCgoTExNbW1ufn58bGxtBQUFKSkqXl5cvLy9VVVU6OjpFRUWFhYWQkJCbm5vDw8NoaGikpKRGqJuiAAAUlUlEQVR4nO1dC3uiPBNlIMhNQC4qckdERcX///O+mYC2torW7vut7XKeZ7sKkkBO5haSiSAMGDBgwIABAwYMGDBgwIABAwb8k9DEdeE1zog+u16IKBaWIJh1qO9UOhhst+rfvcXfD8sFjgkTBDZtP4eKoM5BkkCiX0xg11+E5hyPEWdRGIs+h4OfldgPGB1kkW/2l6CIx9jgn0bRkRcQ8euOccu/xb//YuwSSAoPIMWGM5f4uSjSyhKcYmkYG0ChMBZLpbeEYB0CeNMDfT7oLY8ufqyQzpzICcKp1VfAON/gJdWOqLKWbQFTQVAneFsZkSPXsLp1MRuN2PkTB/8qvx1ljzbF34O5BT03nAyowxsV1LZhGDYTRMhMcw2BIE9g3/scdtduFbXXsTixMM4gjxYhcstcEHtLmEB3kYyM6WcWYphGNfEpBNUtGtVjE+ozUaPPjt7iyAR2LEMpokrluvoBYqRMYYrPECcwEYQo0U+3fGYhWGztvgLYCmDRNNh4O3xqFwppjoixOStbaxIfaYJ+u6JsIMnm0xR0g+pN11TAishxWQQeF4X8Oo3jOuUadIX8CX5HJt7HASopXJBaDPRpvyS/BGQjppuNAWJB2EM1mTV76nfGQhcjPVGFBvLeAlQJqLf5HsxGAsuglNvjQbhRRvPkKKguFd0DEWDOhLEEhUOcLo3uuItycABA3RZOb9iVPbTqFA6MhBZQnXpFzmQJaau5qZuD/4XW+LtQG0C/CPtcgholzQK0khPQdZQPI132ioKg7StpjI2+IYUyLmFtBTYZA0MPDU1KYjQV637bbExDksAawkAYuVAGhs01zARmKAsVteT++pXyFtIJV6d7WdBcWBiEsaBOCxEZqmVBSfpN0isBu2sV827dYoHNJkd17ZBOz1Hr3DdwfpJEXLnoS0gb9I2wPWeTdGsjwQ8pZpSFUhXUDHQ01VynO1W1y5AAJ73VkuMlNKjsHM6CWXIbwp9nmsYoVbU8cpMfIwojlAEfFQka1OkxOi7gTYoDvVSEoJ75cn8RNgoBSsDBa2ksUcspc7SxjnAoNg85KXkBR3SRwrYAsk8sQi9rpWJHON64htmRwTgLMROMENzc3ZE+YzOYjGfoVznFHTl8HVgNLNvuymRqsEjn3go/4CIhflhUMO81sMEUSjKCR3SVtlu01NitBaZpMsUdKGWmeS/uwyv3SGOABCy32PoeabWRhqrJSbKxoJnj0a1LZRc22NZRCgnyV+zxGqXAz5kpzyF6UT+VHY/j99+tNUitQVRFn2yAU8GsY8GG5Vhdg2+WqdhTpLPpijAmk4CxwxKqoDsVFZmqoRFd+DdbETFaQbKjOs1d7YxYsAZwTuca7OgHPCDd8HXUCXgxPVanThOSHGNfH03ktNR6av2bkN89IUJpoDSYLKMYBKRCZHMGkHc/JWVgL5NAkE5hUysulxAXMGs1NxtRU6IEhYf2lNokMdtDky86Hxgr+nxLag2Vr7UFcLKQthPrBkzHVgm7GiT1Wv14rUcMM99bTOK4Sbjnjd/x1AzlUJ1Irs1u3vvfwiUL2GJQ6HoYpjuGdgFSHb2kqrOGTri2kIWUWOhGMVr/7wKiB3nb0Uc7j5x0UzrLguhlKvqNEfo5M/o+XhTLT6bWrNsQmZoyKVCHoLdwukeNXE0Rpqq91ANev3txrT2Dqo0JR4qJ/1sZpCenLiok1Vonm6LifYI1tyPw/zsuWcBw+RS5Mia2X7y8Padxu4i+RzRanww2OvEfWDDQL9odj8c8YuSyl/vjvMD+29YlYQlaCQdhRtEwspDQINUl2C6FhgrwLYpblpPc1SHsDMlBRwfJB0mzSp1uewbz99eaDWTt08jOkWwAsgZdwMFN0hEaYwINr2dKkemL4JIFnyIdAu/jwWzh6bOTRYvSDaoPtvcW00TqevAnFkbuiUbUGMGic3G6OE1MMlUYZVwWeOuNPdA/suAUpxJEorxF3p7DlowoplyjLHD5umTBmsPGGZumqVHIA3vLPOrcM2grLxne74TCQvr+wiyMgxO4S6fagXFyZ+R96yKqRz2ZnaT8Ewv2qQm56y5u2jZsjaI6J3cdo9j6sG2F6QoLowm8sSAEnIbE7W7CSRbUORZefEy2dIeXLKxQtMpyu93mMlofKLYleror1lVOVf4MFr6KzyzMZx2OZBzG/nx2PGl+ERrSTBba+3DC2/UaC/GpAJdUiSa6s9XpJ+M5t9LMRxnbcFNzwYISnvirR6ScOGadByh6ZM73MFPzVhv+Zhb6YIitdyJHYtC6Rtc0Ug+0Q/veAsOzqKX2goX4LEW11g2Ql/uOBNRQpBaNKmw27UDWv8rCZ3yRhc+4YEFWtRZqy/FIVc9+sFO2gaYlVVOnfdk0sNDhz7LQi/NtnkbBBhZO+D+y8AkDCycMLHRAFoL7v7oFF+rvVK4iC98a8HfbGPwprF+LhVJ6GhVUz18sSVkCyfo7BVSgN89eG74WC/8sBhZeAS/Fwk58GmvInr9YFI8pFPl3CpjCNHry0njzWix8z0f6TuWDde4weKqvgIGFV8DAwitgYOEVMLDwChhYeAUMLLwCBhZeAQMLrwDmuv1z4XvxXRbSgYUWD8yDv43vsnBlVtiX8GtY+Bas4FtT0Zlt2N+aLGoGzw9DWcH4/o8GDBgwYMCAAQMGDBgw4EdjfDg2YVGE7jF4avmkGvi7qii8bC+az4RvppPPsH597juvunzzP4e1y7ykndqThLOvryVm8axK2gKSZL3/cvIrK8/CU/3pE/X/BqjH7cUcq3TyxSEhZ345SSs7fKkdNX95cXni/oB0L38aXRocSCkJEf+YNF8ZVJIjvZMivL7gHzeHL1yvTooP9cPcuH/Z74LFO7JX7hxVlkeHCV/O6T4+PiYfOQmLeaQwmdnHNamWhfOwNGgzXv92QvVrQc3XMUovPj73rfHrKxhxEjbxWZcbPIPMw+u4mcgzldTn3qvt6ED2qFLR+FJQPT43u8JXE67upEm5eiv/kT2R1Y8FB+VceX/+tkPx+dqr4GkmsvcaSOW8PDrQHJBN0aN3jcZEuv5OZsQzfBId6f3KC63GI1X/e8NrD2dnF8UI6u0GYOoXSNbq9MPrM1VavO9kPmQ3/RHnTiqvFgEtap1fyr85fXwaNM+9tPjQZHs8dic14gkGkfDBDPEye6etynP903tF5hYXt9G3qsZczPuSqFzCqZoPdGrRhd2y/Nv6V11vHlCuGTXYxyfy0VwuH9PMPpnTj0kMrTXw1Eb3QZkxuhXP7xDhwbBPGCPKF/YRh0uXgPnxzR7KdkVfLpzL384gEmRDkU3DEphiYI9hpqEJGh0KFMoOYZuCbNuywn/QvnJiY6P9kD+QWs6BNnPUJUzkJnzIzeFi83m2dw7tUuW7EMNr9ctYatKTiUyeYzcf2YpsBbxh+OOqtk3pDdTAlgXVwD+2wphlyGP6PDYs1v6o/eDozaNBjbkBU1DC6aSEUvQXydqhpDSREOnTyRQ2vowPMRvZy81qA2WcL6AJqAtklBkNu8ohye6JnUxd0f3UXKMdHr6VyOsCIkrN5rNbSXoue0CYeP2zz3RN+g2LlYRjIViU9NzRbpFSEqdgnkDhmoLj6Y4wSTKVQWVr83SfQZVjm2ypSzqzELaUsMlae48uAjzAklE+imw1B09aSdCofOU7Pnq2d2ERCDE0I6MCadVAOj02IKnyETb7VVXklMyzuOd2G+gW6lfsIC2+vyLzn8Bb8YoFUSs0Fg/4/Dxn65XfUf23ZwOwCBoZuzO2QgNhtspgNho1i8m+hJqyc7iHCg5oFzxDk6Ba7SgfjZumlnBYhO5eAlcVRjPI798er8ynO7ETELHGFEUgnVodC+hBKEuUZDEhFkJRiMIiEpx0qyjbRKSnKMfCWOqTag5KVdpc6bOkmN0H7JeFLIbXvBkMOhYPdDaqv7xSD9Xf3OwF2DA1wzZBpXkgzemn2PODOPK3IKEiKvWSzstQEAu1IFCaa6VEJTanhzKW2FSf8jHdhJyTo2BTUlhjGSooaxu7ZcGbWoJZnlmoArylpYV6YGk4OqUwskI9oIwRd0wQ78rXEsseriqqz6DWWl773eKz43QFjNd/5cQh6WNB3rcsbCzB8CoFu+DUZP4iLDfEAqWKWVvCiQVsghINpJWheHhpdEpq1eVWuo9LFqx+FsKyZeFwYsF4gAXuEl5rrEdl4XhDc7DHWKDcRzfrf4yForKIhbGBgZ+aJ8SC38aMV1hIOQtzyL/AAgreF1jYtiwYC8+hvrQ0USOld/wcq7zh1z9qF9CKpvmV49wu3NdI2DS36//opL/hpJHesWDGMJcFl5o2WCT6O430noWMUnZZJbl/9cOr7J3WOvewEH9iAe+wEv2wQI/AmoZ3pkza1XVXRt4/OIaBUXZ4Td5sHWB7P/q2Me5eX3Ol9lf93zOc1jov3slCAOFxlYLEtDXsggryayw4lbcTG0q6hNb50bS44yWoyEJqUBY8ZAEqA3UIskBPaC7R9sYgaUYYIguAHSOg5ILaHh+tpGztTjG9o9qN4vq4GcVSvSk+T6C44poHEGEsN7vvkJOLdi34ZzTA19NKFlSq4CQ6PTJ2T2wPkzrOpvaW5g42trCDNMDY2dAyGkBYEgtTdPFZhCpYr1We6PfRqdVovPBKDD4wMrFRxGyLwhAN4xWLHxq1UZuCUQmdwz8UyWHI0iZny++6/EZ4nYWAFMojIxDSdRZGsxtW/2P9N1iwkMQ+Lxu9igCfW6FHxoY5tYfK8JBFMRy2iSYYeJ6CXIHajOI3ujOMfduoTXr4VVRUfGMRstxc88QvoGyua6TcQ03xyHiXe10j2ZQk74HYG93HqxqJzMKmT47jO3tH3MXxkU7SQXWXz8/hNfTVvYrGa+zzZ9txHhjmCR8fUpsrgOTNfpyup60bHgqdx9LV+lW8raR3TFadfS/lvNpkX2hYM3h86O9TTc5dmeMvWM592Th2snN8eGSbxrCz05eR343qkYg9ZNy55jprNCU32uvj9HpE/w7WNxoGIQffWOrxp8E77XnUDe0aH6ENlhfDEqp/20KQYalOD4SOUU7Ej+n9wJQfZWYUx87tbke+0OwkAkdY8vf+Br2xmLR3ZTmxaHyrwX8AKFvt6X2KOgW+WwMNqLaZ5jnYrsfIU8ZfvmOM0KUlr8dILXblxKeDWk5leZl4y8aQG3B6C0AhnB7LwphCuU1L4oFen27qXz4ZQM3e3vE49PrYCzSeU/isplhc9JmI/O21WPuKbqeK/L0RT/BPZsNDb7i4VQKvvxvI4vsnVSKXpC4UdJAk2hhm+sv3lQuo5dp8sXKUYcer+NZu57hSnfQbakqkDiG3J0ypqR1Leu1T8hIjHVbYfkEG+i1TTRtiwJyrLNmREtqZjHPJ9ZG6hNrmeY0fd2h+JmgkKene1479bjuvWafJZYxyNr2y0G4gtWh/IQfd1jN6W17djUKg3rvltvJ3bZC1v1f9Lp13Jx0O8OTPaL2aXz5fz2obbiYathHteGblLmkznVyktb3pZUHe82u2uWPbjt/mNF93vpbZpfbWmtuvwMe8/qTB+u1ox3Pje6f6tfYlGprtL7wl/pmwM95yqed5aTtJ8W0jNMuNR2zRHzqoK35R8nZ9+vH3qtSzkZLRfKz/4xtvZ3tnd77fAGvS5pNvkdAEyZP80/4i91gQ5FiCywLKDz5N5PXNQ1A/1p9M3hljxZWq8JnJST8NcjDZFO3MyLDMsUnT/Ts1fJcF1DzHLGw3sfKquvY+brVjS7f2ZetqCHabgotBUkxXJJqrt/rpTcPm3k5avwNMDSIpyxofFTltYlJM3prhARaQSPswybJs55iM29vs3QiW2ZyT9vfUH8+zTPIDVXAwZkx350DvsIuz6qJb/Bvg4xf5+etDLLyHTY7O2x5S9vxrk04ZT/t/MaMgCr0fsHPqnwVtBZO8jeJ8mQUhRn+3PplTpTztc/Uo5Ppt55kO9Vt5/wxQp2Rv377OghAVSdfwNGX1kTenF0AaPuzl59PrzH8NZv1OATzBAjvu2kZje0iPXx99UN12Nc/B7e5j971UKT8U73ehe4IFgbVBljaB8qk0+N025mK7wzdz9Mdnlf5SPMNCh6iCxo99RPzU2hy1BGkf+7vlXSfr1+N5Fti71W7Pbe7gTC/Glf5hsDJ5Uh1oDS10a9Ebtt2GtVrr1dz/50mgJTHP+ieaesazRTDt+WsHDBgwYMCAAQMGDBgwYMCAAf8omNw/zs80PC/3Tx5iw4jENyGl/UPUR2g0y+vfW1d8KEvKgJsIepa/cvgw00ai3/t6bfTyKaheG7KbxgKzTKYqYyaMlS75icJX0wkjyxoRC8KYVo4xU+HnVUWVLYXTolmKRcrKTQZh+AaUZRUI5qbcr6HM4xKWB8p8WAKsFEGw6iKdTZAFc1rYgrrbAKxFJkxgXnt8mlgw80Cn7VLia/lHBjyKiHSJVcFmN0ugrGewUYVdsl7V0KiaC9udqxMLSzBQNUk7N9UVwcWWnyyhEUbbqt5N6aWbkW5faD3Tj8ORVl9ZtKLbWsBKMAGscZnsFZoZz3ODyPMTC4ovijUt03FpKW0OlcCiOPKnsBYEc5n+c5O8/iBWtNoMWXCE8QbbXNXBCCoowhDA94Hyb/gtC7agNPpimeIv+Y7FMSyYkE/1ZUUsjLN7+TkG9GD3jgXd4Sw4eurm+93EiKE031hga5gb9vbMQrKgVfq+mRML6sDCd5B/ZkFZFmiim6nhFLpB2UlaFtQQzxv6exZ8yGTkkWSh7FnOMOAeDp11fmMhYDVsoxXMNdmFtbOHjgW5hHmUwXsWHND9PIQtWud361QGfBnKdmMIVgEHwaRuPibra050ANfgc7Nh7VLsXKF1dtBRdUs04XwfNh9CxtwUNuhEjTF4nv/yNZv/KWTXEwVmBBptzzbCPwFG0rIVBDyg1gxDVQOL4TmZshZQnkuz3YdNNQzKEBKM8Z+Maiv/u8/xwxH9kRnsy0fyGg64CXn9QOqpewiKyTCq+i0oz21UcoHx/SwpAwYMGPCv438xx4GeuMfmTQAAAABJRU5ErkJggg==)"
   ]
  },
  {
   "cell_type": "code",
   "execution_count": null,
   "metadata": {},
   "outputs": [],
   "source": []
  },
  {
   "cell_type": "code",
   "execution_count": null,
   "metadata": {},
   "outputs": [],
   "source": []
  },
  {
   "cell_type": "markdown",
   "metadata": {},
   "source": [
    "### Intervalo Interquartílico\n",
    "\n",
    "$$\n",
    "l_{inf} = Q_1 - 1,5\\cdot IQR\n",
    "$$\n",
    "\n",
    "$$\n",
    "l_{sup} = Q_3 + 1,5\\cdot IQR\n",
    "$$\n",
    "\n",
    "em que,\n",
    "\n",
    "$$\n",
    "IQR = Q_3 - Q_1\n",
    "$$"
   ]
  },
  {
   "cell_type": "code",
   "execution_count": null,
   "metadata": {},
   "outputs": [],
   "source": []
  },
  {
   "cell_type": "code",
   "execution_count": null,
   "metadata": {},
   "outputs": [],
   "source": []
  },
  {
   "cell_type": "code",
   "execution_count": null,
   "metadata": {},
   "outputs": [],
   "source": []
  },
  {
   "cell_type": "markdown",
   "metadata": {},
   "source": [
    "## 3. Gráficos de Matriz\n",
    "---\n",
    "\n",
    "### 3.1. Heatmap\n",
    "\n",
    "> Mapa de cores: [Documentação](https://matplotlib.org/stable/gallery/color/colormap_reference.html)"
   ]
  },
  {
   "cell_type": "code",
   "execution_count": null,
   "metadata": {},
   "outputs": [],
   "source": []
  },
  {
   "cell_type": "code",
   "execution_count": null,
   "metadata": {},
   "outputs": [],
   "source": []
  },
  {
   "cell_type": "code",
   "execution_count": null,
   "metadata": {},
   "outputs": [],
   "source": []
  },
  {
   "cell_type": "code",
   "execution_count": null,
   "metadata": {},
   "outputs": [],
   "source": []
  },
  {
   "cell_type": "markdown",
   "metadata": {},
   "source": [
    "## Plotly\n",
    "\n",
    "A biblioteca Plotly é uma biblioteca do Python de plotagem interativa e de código aberto que oferece suporte a mais de 40 tipos de gráficos exclusivos, cobrindo uma ampla variedade de casos de uso estatísticos, financeiros, geográficos, científicos e tridimensionais.\n",
    "\n",
    "Construído sobre a biblioteca Plotly JavaScript (plotly.js), o plotly permite que os usuários Python criem belas visualizações interativas baseadas na web que podem ser exibidas em blocos de anotações Jupyter, salvas em arquivos HTML autônomos ou servidas como parte da web puramente construída em Python aplicativos usando o Dash. A biblioteca Plotly do Python é às vezes chamada de \"plotly.py\" para diferenciá-la da biblioteca JavaScript.\n",
    "\n",
    "<img src=\"https://s3-sa-east-1.amazonaws.com/lcpi/4f93ab61-2342-4cfe-af1b-1de1a7e87ff4.gif\" alt=\"Plotly examples\" style=\"display: block; margin: 2rem auto; max-width: 700px\" />"
   ]
  }
 ],
 "metadata": {
  "kernelspec": {
   "display_name": "Python 3",
   "language": "python",
   "name": "python3"
  },
  "language_info": {
   "codemirror_mode": {
    "name": "ipython",
    "version": 3
   },
   "file_extension": ".py",
   "mimetype": "text/x-python",
   "name": "python",
   "nbconvert_exporter": "python",
   "pygments_lexer": "ipython3",
   "version": "3.9.7"
  }
 },
 "nbformat": 4,
 "nbformat_minor": 4
}

{
 "cells": [
  {
   "cell_type": "markdown",
   "metadata": {},
   "source": [
    "# 01 - Numpy\n",
    "---\n",
    "\n",
    "<img src=\"https://selecao.letscode.com.br/favicon.png\" width=\"40px\" style=\"position: absolute; top: 15px; right: 40px; border-radius: 5px;\" />\n",
    "\n",
    "## Roteiro da Aula\n",
    "\n",
    "1. Instalação\n",
    "2. Criação de arrays 1D e 2D\n",
    "3. Atributos\n",
    "4. Indexação e slices\n",
    "5. Criação automática de arrays\n",
    "6. Operações aritméticas\n",
    "7. Métodos estatísticos\n",
    "8. Outros métodos\n",
    "9. Máscaras"
   ]
  },
  {
   "cell_type": "markdown",
   "metadata": {},
   "source": [
    "## Introdução\n",
    "\n",
    "NumPy é o pacote fundamental para computação científica em Python. É uma biblioteca Python que fornece um objeto array multidimensional, vários objetos derivados (como arrays e matrizes) e uma variedade de rotinas para operações rápidas em arrays, incluindo matemática, lógica, manipulação de *shapes*, ordenação, seleção, I/O, transformadas discretas de Fourier, álgebra linear básica, operações estatísticas básicas, simulação aleatória e muito mais.\n",
    "\n",
    "No *core* do pacote NumPy, está o objeto ndarray. Ele consiste em arrays n-dimensionais de tipos de dados homogêneos, com muitas operações sendo executadas em código compilado para uma melhoria de desempenho. Existem várias diferenças importantes entre os arrays NumPy e as sequências padrão do Python:\n",
    "\n",
    "- As matrizes NumPy têm um tamanho fixo na criação, ao contrário das listas Python (que podem crescer dinamicamente). Alterar o tamanho de um ndarray criará um novo array e excluirá o original.  \n",
    "- Todos os elementos em uma matriz NumPy devem ser do mesmo tipo de dados e, portanto, terão o mesmo tamanho na memória. A exceção: pode-se ter arrays de objetos (do Python, incluindo NumPy), permitindo assim arrays de elementos de tamanhos diferentes.  \n",
    "- Os arrays NumPy facilitam operações matemáticas avançadas e outros tipos de operações em um grande número de dados. Normalmente, essas operações são executadas com mais eficiência e com menos código do que é possível utilizando as sequências internas do Python.  \n",
    "- Uma infinidade crescente de pacotes científicos e matemáticos baseados em Python estão utilizando arrays NumPy; embora eles normalmente suportem entrada de iteráveis do Python, eles convertem essa entrada em matrizes NumPy antes do processamento e geralmente produzem matrizes NumPy. Em outras palavras, para usar com eficiência muitos (talvez até a maioria) dos softwares científico/matemático baseado em Python de hoje, apenas saber usar os tipos de sequência internos do Python é insuficiente - também é necessário saber como usar matrizes NumPy.\n",
    "\n",
    "> Fonte: [Documentação Oficial do Numpy](https://numpy.org/doc/stable/user/whatisnumpy.html)\n",
    "\n",
    "Um array do NumPy pode conter:\n",
    "\n",
    "- Valores de um experimento/simulação em intervalo de tempo discreto;  \n",
    "- Sinal gravado por um dispositivo de medição (sinal sonoro, por exemplo);  \n",
    "- Pixels de uma imagem (nı́vel de cinza ou cor);  \n",
    "- Dados 3D medidos em relação às coordenadas X, Y e Z (imagens de Ressonância Magnética, por exemplo).  \n"
   ]
  },
  {
   "cell_type": "code",
   "execution_count": null,
   "metadata": {},
   "outputs": [],
   "source": []
  },
  {
   "cell_type": "markdown",
   "metadata": {},
   "source": [
    "## 1. Instalação"
   ]
  },
  {
   "cell_type": "code",
   "execution_count": 1,
   "metadata": {},
   "outputs": [
    {
     "name": "stdout",
     "output_type": "stream",
     "text": [
      "Defaulting to user installation because normal site-packages is not writeable\n",
      "Collecting numpy\n",
      "  Downloading numpy-1.22.0-cp310-cp310-manylinux_2_17_x86_64.manylinux2014_x86_64.whl (16.8 MB)\n",
      "\u001b[K     |████████████████████████████████| 16.8 MB 24.5 MB/s eta 0:00:01\n",
      "\u001b[?25hInstalling collected packages: numpy\n",
      "Successfully installed numpy-1.22.0\n",
      "Note: you may need to restart the kernel to use updated packages.\n"
     ]
    }
   ],
   "source": [
    "pip install numpy"
   ]
  },
  {
   "cell_type": "code",
   "execution_count": 2,
   "metadata": {},
   "outputs": [],
   "source": [
    "# Importação\n",
    "import numpy as np"
   ]
  },
  {
   "cell_type": "code",
   "execution_count": 2,
   "metadata": {},
   "outputs": [
    {
     "data": {
      "text/plain": [
       "'1.22.0'"
      ]
     },
     "execution_count": 2,
     "metadata": {},
     "output_type": "execute_result"
    }
   ],
   "source": [
    "np.__version__"
   ]
  },
  {
   "cell_type": "code",
   "execution_count": 3,
   "metadata": {},
   "outputs": [
    {
     "name": "stdout",
     "output_type": "stream",
     "text": [
      "Defaulting to user installation because normal site-packages is not writeable\n",
      "Requirement already satisfied: numpy in /home/walisson/.local/lib/python3.10/site-packages (1.22.0)\n",
      "Note: you may need to restart the kernel to use updated packages.\n"
     ]
    }
   ],
   "source": [
    "pip install -U numpy"
   ]
  },
  {
   "cell_type": "markdown",
   "metadata": {},
   "source": [
    "## 2. Criação de Arrays 1D e 2D"
   ]
  },
  {
   "cell_type": "code",
   "execution_count": 4,
   "metadata": {},
   "outputs": [],
   "source": [
    "lista = [1, 2, 3]"
   ]
  },
  {
   "cell_type": "code",
   "execution_count": 7,
   "metadata": {},
   "outputs": [
    {
     "data": {
      "text/plain": [
       "[1, 2, 3]"
      ]
     },
     "execution_count": 7,
     "metadata": {},
     "output_type": "execute_result"
    }
   ],
   "source": [
    "lista"
   ]
  },
  {
   "cell_type": "code",
   "execution_count": 9,
   "metadata": {},
   "outputs": [
    {
     "name": "stdout",
     "output_type": "stream",
     "text": [
      "[1 2 3]\n"
     ]
    }
   ],
   "source": [
    "print(np.array([1, 2, 3]))"
   ]
  },
  {
   "cell_type": "code",
   "execution_count": 10,
   "metadata": {},
   "outputs": [],
   "source": [
    "array = np.array(lista)"
   ]
  },
  {
   "cell_type": "code",
   "execution_count": 11,
   "metadata": {},
   "outputs": [
    {
     "data": {
      "text/plain": [
       "array([1, 2, 3])"
      ]
     },
     "execution_count": 11,
     "metadata": {},
     "output_type": "execute_result"
    }
   ],
   "source": [
    "array"
   ]
  },
  {
   "cell_type": "code",
   "execution_count": 12,
   "metadata": {},
   "outputs": [
    {
     "data": {
      "text/plain": [
       "list"
      ]
     },
     "execution_count": 12,
     "metadata": {},
     "output_type": "execute_result"
    }
   ],
   "source": [
    "type(lista)"
   ]
  },
  {
   "cell_type": "code",
   "execution_count": 13,
   "metadata": {},
   "outputs": [
    {
     "data": {
      "text/plain": [
       "numpy.ndarray"
      ]
     },
     "execution_count": 13,
     "metadata": {},
     "output_type": "execute_result"
    }
   ],
   "source": [
    "type(array)"
   ]
  },
  {
   "cell_type": "code",
   "execution_count": 17,
   "metadata": {},
   "outputs": [],
   "source": [
    "matriz = np.array([[1, 2, 3], [4, 5, 6], [7, 8, 9]])"
   ]
  },
  {
   "cell_type": "code",
   "execution_count": 18,
   "metadata": {},
   "outputs": [
    {
     "data": {
      "text/plain": [
       "array([[1, 2, 3],\n",
       "       [4, 5, 6],\n",
       "       [7, 8, 9]])"
      ]
     },
     "execution_count": 18,
     "metadata": {},
     "output_type": "execute_result"
    }
   ],
   "source": [
    "matriz"
   ]
  },
  {
   "cell_type": "markdown",
   "metadata": {},
   "source": [
    "## 3. Atributos"
   ]
  },
  {
   "cell_type": "markdown",
   "metadata": {},
   "source": [
    "#### `ndim`"
   ]
  },
  {
   "cell_type": "code",
   "execution_count": 20,
   "metadata": {},
   "outputs": [
    {
     "data": {
      "text/plain": [
       "array([1, 2, 3])"
      ]
     },
     "execution_count": 20,
     "metadata": {},
     "output_type": "execute_result"
    }
   ],
   "source": [
    "array"
   ]
  },
  {
   "cell_type": "code",
   "execution_count": 19,
   "metadata": {},
   "outputs": [
    {
     "data": {
      "text/plain": [
       "1"
      ]
     },
     "execution_count": 19,
     "metadata": {},
     "output_type": "execute_result"
    }
   ],
   "source": [
    "array.ndim"
   ]
  },
  {
   "cell_type": "code",
   "execution_count": 21,
   "metadata": {},
   "outputs": [
    {
     "data": {
      "text/plain": [
       "2"
      ]
     },
     "execution_count": 21,
     "metadata": {},
     "output_type": "execute_result"
    }
   ],
   "source": [
    "matriz.ndim"
   ]
  },
  {
   "cell_type": "code",
   "execution_count": null,
   "metadata": {},
   "outputs": [],
   "source": []
  },
  {
   "cell_type": "markdown",
   "metadata": {},
   "source": [
    "#### `shape`"
   ]
  },
  {
   "cell_type": "code",
   "execution_count": 29,
   "metadata": {},
   "outputs": [
    {
     "data": {
      "text/plain": [
       "3"
      ]
     },
     "execution_count": 29,
     "metadata": {},
     "output_type": "execute_result"
    }
   ],
   "source": [
    "len(array)"
   ]
  },
  {
   "cell_type": "code",
   "execution_count": 22,
   "metadata": {},
   "outputs": [
    {
     "data": {
      "text/plain": [
       "(3,)"
      ]
     },
     "execution_count": 22,
     "metadata": {},
     "output_type": "execute_result"
    }
   ],
   "source": [
    "array.shape"
   ]
  },
  {
   "cell_type": "code",
   "execution_count": 26,
   "metadata": {},
   "outputs": [],
   "source": [
    "array_outro = np.array([[1], [2], [3]])"
   ]
  },
  {
   "cell_type": "code",
   "execution_count": 27,
   "metadata": {},
   "outputs": [
    {
     "data": {
      "text/plain": [
       "array([[1],\n",
       "       [2],\n",
       "       [3]])"
      ]
     },
     "execution_count": 27,
     "metadata": {},
     "output_type": "execute_result"
    }
   ],
   "source": [
    "array_outro"
   ]
  },
  {
   "cell_type": "code",
   "execution_count": 28,
   "metadata": {},
   "outputs": [
    {
     "data": {
      "text/plain": [
       "(3, 1)"
      ]
     },
     "execution_count": 28,
     "metadata": {},
     "output_type": "execute_result"
    }
   ],
   "source": [
    "array_outro.shape"
   ]
  },
  {
   "cell_type": "code",
   "execution_count": 23,
   "metadata": {},
   "outputs": [
    {
     "data": {
      "text/plain": [
       "(3, 3)"
      ]
     },
     "execution_count": 23,
     "metadata": {},
     "output_type": "execute_result"
    }
   ],
   "source": [
    "matriz.shape"
   ]
  },
  {
   "cell_type": "code",
   "execution_count": 30,
   "metadata": {},
   "outputs": [
    {
     "data": {
      "text/plain": [
       "3"
      ]
     },
     "execution_count": 30,
     "metadata": {},
     "output_type": "execute_result"
    }
   ],
   "source": [
    "len(matriz)"
   ]
  },
  {
   "cell_type": "markdown",
   "metadata": {},
   "source": [
    "#### `size`, `itemsize` e `nbytes`"
   ]
  },
  {
   "cell_type": "code",
   "execution_count": 31,
   "metadata": {},
   "outputs": [
    {
     "data": {
      "text/plain": [
       "3"
      ]
     },
     "execution_count": 31,
     "metadata": {},
     "output_type": "execute_result"
    }
   ],
   "source": [
    "array.size"
   ]
  },
  {
   "cell_type": "code",
   "execution_count": 32,
   "metadata": {},
   "outputs": [
    {
     "data": {
      "text/plain": [
       "9"
      ]
     },
     "execution_count": 32,
     "metadata": {},
     "output_type": "execute_result"
    }
   ],
   "source": [
    "matriz.size # Quantidade de elementos presentes no ndarray"
   ]
  },
  {
   "cell_type": "code",
   "execution_count": 33,
   "metadata": {},
   "outputs": [
    {
     "data": {
      "text/plain": [
       "8"
      ]
     },
     "execution_count": 33,
     "metadata": {},
     "output_type": "execute_result"
    }
   ],
   "source": [
    "array.itemsize"
   ]
  },
  {
   "cell_type": "code",
   "execution_count": 34,
   "metadata": {},
   "outputs": [
    {
     "data": {
      "text/plain": [
       "8"
      ]
     },
     "execution_count": 34,
     "metadata": {},
     "output_type": "execute_result"
    }
   ],
   "source": [
    "matriz.itemsize"
   ]
  },
  {
   "cell_type": "code",
   "execution_count": 37,
   "metadata": {},
   "outputs": [],
   "source": [
    "array = np.array(lista, dtype='int32')"
   ]
  },
  {
   "cell_type": "code",
   "execution_count": 38,
   "metadata": {},
   "outputs": [
    {
     "data": {
      "text/plain": [
       "4"
      ]
     },
     "execution_count": 38,
     "metadata": {},
     "output_type": "execute_result"
    }
   ],
   "source": [
    "array.itemsize"
   ]
  },
  {
   "cell_type": "markdown",
   "metadata": {},
   "source": [
    "1 byte = 8 bits = 01010101 >> 0 - 255"
   ]
  },
  {
   "cell_type": "code",
   "execution_count": 39,
   "metadata": {},
   "outputs": [
    {
     "data": {
      "text/plain": [
       "256"
      ]
     },
     "execution_count": 39,
     "metadata": {},
     "output_type": "execute_result"
    }
   ],
   "source": [
    "2**8"
   ]
  },
  {
   "cell_type": "code",
   "execution_count": 70,
   "metadata": {},
   "outputs": [],
   "source": [
    "array = np.array([129, 2, 3], dtype='int8')"
   ]
  },
  {
   "cell_type": "code",
   "execution_count": 71,
   "metadata": {},
   "outputs": [
    {
     "data": {
      "text/plain": [
       "1"
      ]
     },
     "execution_count": 71,
     "metadata": {},
     "output_type": "execute_result"
    }
   ],
   "source": [
    "array.itemsize"
   ]
  },
  {
   "cell_type": "code",
   "execution_count": 72,
   "metadata": {},
   "outputs": [
    {
     "data": {
      "text/plain": [
       "array([-127,    2,    3], dtype=int8)"
      ]
     },
     "execution_count": 72,
     "metadata": {},
     "output_type": "execute_result"
    }
   ],
   "source": [
    "array"
   ]
  },
  {
   "cell_type": "code",
   "execution_count": 66,
   "metadata": {},
   "outputs": [],
   "source": [
    "# 16 bits -> Menor valor: -32.00x | Maior valor: 32.00x"
   ]
  },
  {
   "cell_type": "code",
   "execution_count": 74,
   "metadata": {},
   "outputs": [
    {
     "data": {
      "text/plain": [
       "3"
      ]
     },
     "execution_count": 74,
     "metadata": {},
     "output_type": "execute_result"
    }
   ],
   "source": [
    "array.nbytes # Retorna quantidade de bytes reservada para o seu array (inteiro!)"
   ]
  },
  {
   "cell_type": "markdown",
   "metadata": {},
   "source": [
    "#### `dtype`"
   ]
  },
  {
   "cell_type": "code",
   "execution_count": 35,
   "metadata": {},
   "outputs": [
    {
     "data": {
      "text/plain": [
       "dtype('int64')"
      ]
     },
     "execution_count": 35,
     "metadata": {},
     "output_type": "execute_result"
    }
   ],
   "source": [
    "array.dtype"
   ]
  },
  {
   "cell_type": "code",
   "execution_count": 36,
   "metadata": {},
   "outputs": [
    {
     "data": {
      "text/plain": [
       "dtype('int64')"
      ]
     },
     "execution_count": 36,
     "metadata": {},
     "output_type": "execute_result"
    }
   ],
   "source": [
    "matriz.dtype"
   ]
  },
  {
   "cell_type": "markdown",
   "metadata": {},
   "source": [
    "## 4. Indexação e slices "
   ]
  },
  {
   "cell_type": "code",
   "execution_count": 76,
   "metadata": {},
   "outputs": [],
   "source": [
    "array = np.array([1, 2, 3])"
   ]
  },
  {
   "cell_type": "code",
   "execution_count": 77,
   "metadata": {},
   "outputs": [
    {
     "data": {
      "text/plain": [
       "array([[1, 2, 3],\n",
       "       [4, 5, 6],\n",
       "       [7, 8, 9]])"
      ]
     },
     "execution_count": 77,
     "metadata": {},
     "output_type": "execute_result"
    }
   ],
   "source": [
    "matriz"
   ]
  },
  {
   "cell_type": "code",
   "execution_count": 78,
   "metadata": {},
   "outputs": [
    {
     "data": {
      "text/plain": [
       "1"
      ]
     },
     "execution_count": 78,
     "metadata": {},
     "output_type": "execute_result"
    }
   ],
   "source": [
    "array[0]"
   ]
  },
  {
   "cell_type": "code",
   "execution_count": 79,
   "metadata": {},
   "outputs": [
    {
     "data": {
      "text/plain": [
       "array([1, 2])"
      ]
     },
     "execution_count": 79,
     "metadata": {},
     "output_type": "execute_result"
    }
   ],
   "source": [
    "array[:2]"
   ]
  },
  {
   "cell_type": "code",
   "execution_count": 80,
   "metadata": {},
   "outputs": [
    {
     "data": {
      "text/plain": [
       "3"
      ]
     },
     "execution_count": 80,
     "metadata": {},
     "output_type": "execute_result"
    }
   ],
   "source": [
    "array[-1]"
   ]
  },
  {
   "cell_type": "code",
   "execution_count": 82,
   "metadata": {},
   "outputs": [
    {
     "data": {
      "text/plain": [
       "array([1, 2, 3])"
      ]
     },
     "execution_count": 82,
     "metadata": {},
     "output_type": "execute_result"
    }
   ],
   "source": [
    "matriz[0] # Primeira linha da matriz (array)"
   ]
  },
  {
   "cell_type": "code",
   "execution_count": 83,
   "metadata": {},
   "outputs": [],
   "source": [
    "lista_mtx = [[1, 2], [3, 4]]"
   ]
  },
  {
   "cell_type": "code",
   "execution_count": 84,
   "metadata": {},
   "outputs": [
    {
     "data": {
      "text/plain": [
       "4"
      ]
     },
     "execution_count": 84,
     "metadata": {},
     "output_type": "execute_result"
    }
   ],
   "source": [
    "lista_mtx[1][1]"
   ]
  },
  {
   "cell_type": "code",
   "execution_count": 85,
   "metadata": {},
   "outputs": [
    {
     "ename": "TypeError",
     "evalue": "list indices must be integers or slices, not tuple",
     "output_type": "error",
     "traceback": [
      "\u001b[0;31m---------------------------------------------------------------------------\u001b[0m",
      "\u001b[0;31mTypeError\u001b[0m                                 Traceback (most recent call last)",
      "\u001b[0;32m/tmp/ipykernel_71236/811330532.py\u001b[0m in \u001b[0;36m<module>\u001b[0;34m\u001b[0m\n\u001b[0;32m----> 1\u001b[0;31m \u001b[0mlista_mtx\u001b[0m\u001b[0;34m[\u001b[0m\u001b[0;36m1\u001b[0m\u001b[0;34m,\u001b[0m\u001b[0;36m1\u001b[0m\u001b[0;34m]\u001b[0m\u001b[0;34m\u001b[0m\u001b[0;34m\u001b[0m\u001b[0m\n\u001b[0m",
      "\u001b[0;31mTypeError\u001b[0m: list indices must be integers or slices, not tuple"
     ]
    }
   ],
   "source": [
    "lista_mtx[1,1]"
   ]
  },
  {
   "cell_type": "code",
   "execution_count": 87,
   "metadata": {},
   "outputs": [
    {
     "data": {
      "text/plain": [
       "5"
      ]
     },
     "execution_count": 87,
     "metadata": {},
     "output_type": "execute_result"
    }
   ],
   "source": [
    "matriz[1][1]"
   ]
  },
  {
   "cell_type": "code",
   "execution_count": 86,
   "metadata": {},
   "outputs": [
    {
     "data": {
      "text/plain": [
       "5"
      ]
     },
     "execution_count": 86,
     "metadata": {},
     "output_type": "execute_result"
    }
   ],
   "source": [
    "matriz[1,1]"
   ]
  },
  {
   "cell_type": "code",
   "execution_count": 88,
   "metadata": {},
   "outputs": [
    {
     "data": {
      "text/plain": [
       "array([[1, 2, 3],\n",
       "       [4, 5, 6],\n",
       "       [7, 8, 9]])"
      ]
     },
     "execution_count": 88,
     "metadata": {},
     "output_type": "execute_result"
    }
   ],
   "source": [
    "matriz"
   ]
  },
  {
   "cell_type": "code",
   "execution_count": null,
   "metadata": {},
   "outputs": [],
   "source": []
  },
  {
   "cell_type": "code",
   "execution_count": 93,
   "metadata": {},
   "outputs": [
    {
     "data": {
      "text/plain": [
       "array([5, 8])"
      ]
     },
     "execution_count": 93,
     "metadata": {},
     "output_type": "execute_result"
    }
   ],
   "source": [
    "# matriz[linha, coluna]\n",
    "matriz[1:,1]"
   ]
  },
  {
   "cell_type": "code",
   "execution_count": 97,
   "metadata": {},
   "outputs": [
    {
     "data": {
      "text/plain": [
       "array([[4, 5],\n",
       "       [7, 8]])"
      ]
     },
     "execution_count": 97,
     "metadata": {},
     "output_type": "execute_result"
    }
   ],
   "source": [
    "matriz[1:,:2]"
   ]
  },
  {
   "cell_type": "code",
   "execution_count": 96,
   "metadata": {},
   "outputs": [
    {
     "data": {
      "text/plain": [
       "array([[4, 5],\n",
       "       [7, 8]])"
      ]
     },
     "execution_count": 96,
     "metadata": {},
     "output_type": "execute_result"
    }
   ],
   "source": [
    "matriz[1:,:-1]"
   ]
  },
  {
   "cell_type": "markdown",
   "metadata": {},
   "source": [
    "## 5. Criação Automática de Arrays\n",
    "\n",
    "#### `arange`"
   ]
  },
  {
   "cell_type": "code",
   "execution_count": 101,
   "metadata": {},
   "outputs": [
    {
     "data": {
      "text/plain": [
       "[0, 1, 2, 3, 4, 5, 6, 7, 8, 9]"
      ]
     },
     "execution_count": 101,
     "metadata": {},
     "output_type": "execute_result"
    }
   ],
   "source": [
    "list(range(10))\n",
    "list(range(0, 10))\n",
    "list(range(0, 10, 1))"
   ]
  },
  {
   "cell_type": "code",
   "execution_count": 102,
   "metadata": {},
   "outputs": [
    {
     "data": {
      "text/plain": [
       "array([0, 1, 2, 3, 4, 5, 6, 7, 8, 9])"
      ]
     },
     "execution_count": 102,
     "metadata": {},
     "output_type": "execute_result"
    }
   ],
   "source": [
    "np.arange(10)"
   ]
  },
  {
   "cell_type": "code",
   "execution_count": 103,
   "metadata": {},
   "outputs": [
    {
     "data": {
      "text/plain": [
       "array([ 0,  1,  2,  3,  4,  5,  6,  7,  8,  9, 10, 11, 12, 13, 14])"
      ]
     },
     "execution_count": 103,
     "metadata": {},
     "output_type": "execute_result"
    }
   ],
   "source": [
    "np.arange(0, 15)"
   ]
  },
  {
   "cell_type": "code",
   "execution_count": 104,
   "metadata": {},
   "outputs": [
    {
     "data": {
      "text/plain": [
       "array([0. , 0.1, 0.2, 0.3, 0.4, 0.5, 0.6, 0.7, 0.8, 0.9, 1. , 1.1, 1.2,\n",
       "       1.3, 1.4, 1.5, 1.6, 1.7, 1.8, 1.9, 2. , 2.1, 2.2, 2.3, 2.4, 2.5,\n",
       "       2.6, 2.7, 2.8, 2.9, 3. , 3.1, 3.2, 3.3, 3.4, 3.5, 3.6, 3.7, 3.8,\n",
       "       3.9])"
      ]
     },
     "execution_count": 104,
     "metadata": {},
     "output_type": "execute_result"
    }
   ],
   "source": [
    "np.arange(0, 4, 0.1)"
   ]
  },
  {
   "cell_type": "markdown",
   "metadata": {},
   "source": [
    "### Constantes dentro do NumPy"
   ]
  },
  {
   "cell_type": "code",
   "execution_count": 105,
   "metadata": {},
   "outputs": [
    {
     "data": {
      "text/plain": [
       "3.141592653589793"
      ]
     },
     "execution_count": 105,
     "metadata": {},
     "output_type": "execute_result"
    }
   ],
   "source": [
    "np.pi"
   ]
  },
  {
   "cell_type": "code",
   "execution_count": 106,
   "metadata": {},
   "outputs": [
    {
     "data": {
      "text/plain": [
       "2.718281828459045"
      ]
     },
     "execution_count": 106,
     "metadata": {},
     "output_type": "execute_result"
    }
   ],
   "source": [
    "np.e"
   ]
  },
  {
   "cell_type": "code",
   "execution_count": 107,
   "metadata": {},
   "outputs": [
    {
     "data": {
      "text/plain": [
       "inf"
      ]
     },
     "execution_count": 107,
     "metadata": {},
     "output_type": "execute_result"
    }
   ],
   "source": [
    "np.inf"
   ]
  },
  {
   "cell_type": "code",
   "execution_count": 108,
   "metadata": {},
   "outputs": [
    {
     "data": {
      "text/plain": [
       "nan"
      ]
     },
     "execution_count": 108,
     "metadata": {},
     "output_type": "execute_result"
    }
   ],
   "source": [
    "np.nan"
   ]
  },
  {
   "cell_type": "markdown",
   "metadata": {},
   "source": [
    "#### `linspace`"
   ]
  },
  {
   "cell_type": "code",
   "execution_count": 109,
   "metadata": {},
   "outputs": [
    {
     "data": {
      "text/plain": [
       "array([ 0.,  1.,  2.,  3.,  4.,  5.,  6.,  7.,  8.,  9., 10.])"
      ]
     },
     "execution_count": 109,
     "metadata": {},
     "output_type": "execute_result"
    }
   ],
   "source": [
    "np.linspace(0, 10, 11)"
   ]
  },
  {
   "cell_type": "code",
   "execution_count": 114,
   "metadata": {},
   "outputs": [
    {
     "data": {
      "text/plain": [
       "array([ 0., 20., 40., 60., 80.])"
      ]
     },
     "execution_count": 114,
     "metadata": {},
     "output_type": "execute_result"
    }
   ],
   "source": [
    "np.linspace(0, 100, 5, endpoint=False)"
   ]
  },
  {
   "cell_type": "markdown",
   "metadata": {},
   "source": [
    "#### `zeros`"
   ]
  },
  {
   "cell_type": "code",
   "execution_count": 115,
   "metadata": {},
   "outputs": [
    {
     "data": {
      "text/plain": [
       "array([0., 0., 0., 0., 0., 0., 0., 0., 0., 0.])"
      ]
     },
     "execution_count": 115,
     "metadata": {},
     "output_type": "execute_result"
    }
   ],
   "source": [
    "np.zeros(10)"
   ]
  },
  {
   "cell_type": "code",
   "execution_count": 116,
   "metadata": {},
   "outputs": [
    {
     "data": {
      "text/plain": [
       "array([[0., 0., 0.],\n",
       "       [0., 0., 0.],\n",
       "       [0., 0., 0.]])"
      ]
     },
     "execution_count": 116,
     "metadata": {},
     "output_type": "execute_result"
    }
   ],
   "source": [
    "np.zeros((3, 3))"
   ]
  },
  {
   "cell_type": "code",
   "execution_count": 122,
   "metadata": {},
   "outputs": [],
   "source": [
    "lalala = np.zeros((2, 3, 1))"
   ]
  },
  {
   "cell_type": "code",
   "execution_count": 123,
   "metadata": {},
   "outputs": [
    {
     "data": {
      "text/plain": [
       "(2, 3, 1)"
      ]
     },
     "execution_count": 123,
     "metadata": {},
     "output_type": "execute_result"
    }
   ],
   "source": [
    "lalala.shape"
   ]
  },
  {
   "cell_type": "code",
   "execution_count": 124,
   "metadata": {},
   "outputs": [
    {
     "data": {
      "text/plain": [
       "array([[[0.],\n",
       "        [0.],\n",
       "        [0.]],\n",
       "\n",
       "       [[0.],\n",
       "        [0.],\n",
       "        [0.]]])"
      ]
     },
     "execution_count": 124,
     "metadata": {},
     "output_type": "execute_result"
    }
   ],
   "source": [
    "lalala"
   ]
  },
  {
   "cell_type": "code",
   "execution_count": 130,
   "metadata": {},
   "outputs": [
    {
     "data": {
      "text/plain": [
       "array([[25., 25., 25., 25., 25.],\n",
       "       [25., 25., 25., 25., 25.],\n",
       "       [25., 25., 25., 25., 25.],\n",
       "       [25., 25., 25., 25., 25.],\n",
       "       [25., 25., 25., 25., 25.]])"
      ]
     },
     "execution_count": 130,
     "metadata": {},
     "output_type": "execute_result"
    }
   ],
   "source": [
    "np.zeros((5, 5)) + 25"
   ]
  },
  {
   "cell_type": "markdown",
   "metadata": {},
   "source": [
    "#### `ones`"
   ]
  },
  {
   "cell_type": "code",
   "execution_count": 125,
   "metadata": {},
   "outputs": [
    {
     "data": {
      "text/plain": [
       "array([1., 1., 1., 1., 1., 1., 1., 1., 1., 1.])"
      ]
     },
     "execution_count": 125,
     "metadata": {},
     "output_type": "execute_result"
    }
   ],
   "source": [
    "np.ones(10)"
   ]
  },
  {
   "cell_type": "code",
   "execution_count": 126,
   "metadata": {},
   "outputs": [
    {
     "data": {
      "text/plain": [
       "array([[1., 1.],\n",
       "       [1., 1.]])"
      ]
     },
     "execution_count": 126,
     "metadata": {},
     "output_type": "execute_result"
    }
   ],
   "source": [
    "np.ones((2, 2))"
   ]
  },
  {
   "cell_type": "code",
   "execution_count": 127,
   "metadata": {},
   "outputs": [
    {
     "data": {
      "text/plain": [
       "array([[[1.],\n",
       "        [1.]],\n",
       "\n",
       "       [[1.],\n",
       "        [1.]],\n",
       "\n",
       "       [[1.],\n",
       "        [1.]]])"
      ]
     },
     "execution_count": 127,
     "metadata": {},
     "output_type": "execute_result"
    }
   ],
   "source": [
    "np.ones((3, 2, 1))"
   ]
  },
  {
   "cell_type": "code",
   "execution_count": 129,
   "metadata": {},
   "outputs": [
    {
     "data": {
      "text/plain": [
       "array([[25., 25., 25., 25., 25.],\n",
       "       [25., 25., 25., 25., 25.],\n",
       "       [25., 25., 25., 25., 25.],\n",
       "       [25., 25., 25., 25., 25.],\n",
       "       [25., 25., 25., 25., 25.]])"
      ]
     },
     "execution_count": 129,
     "metadata": {},
     "output_type": "execute_result"
    }
   ],
   "source": [
    "np.ones((5, 5)) * 25"
   ]
  },
  {
   "cell_type": "markdown",
   "metadata": {},
   "source": [
    "#### `full`"
   ]
  },
  {
   "cell_type": "code",
   "execution_count": 131,
   "metadata": {},
   "outputs": [
    {
     "data": {
      "text/plain": [
       "array([3.14159265, 3.14159265, 3.14159265, 3.14159265, 3.14159265,\n",
       "       3.14159265, 3.14159265, 3.14159265, 3.14159265, 3.14159265])"
      ]
     },
     "execution_count": 131,
     "metadata": {},
     "output_type": "execute_result"
    }
   ],
   "source": [
    "np.full(10, np.pi)"
   ]
  },
  {
   "cell_type": "code",
   "execution_count": 132,
   "metadata": {},
   "outputs": [
    {
     "data": {
      "text/plain": [
       "array([[25, 25, 25, 25, 25],\n",
       "       [25, 25, 25, 25, 25],\n",
       "       [25, 25, 25, 25, 25],\n",
       "       [25, 25, 25, 25, 25],\n",
       "       [25, 25, 25, 25, 25]])"
      ]
     },
     "execution_count": 132,
     "metadata": {},
     "output_type": "execute_result"
    }
   ],
   "source": [
    "np.full((5, 5), 25)"
   ]
  },
  {
   "cell_type": "markdown",
   "metadata": {},
   "source": [
    "#### `full_like`"
   ]
  },
  {
   "cell_type": "code",
   "execution_count": 133,
   "metadata": {},
   "outputs": [
    {
     "data": {
      "text/plain": [
       "array([[1, 2, 3],\n",
       "       [4, 5, 6],\n",
       "       [7, 8, 9]])"
      ]
     },
     "execution_count": 133,
     "metadata": {},
     "output_type": "execute_result"
    }
   ],
   "source": [
    "matriz"
   ]
  },
  {
   "cell_type": "code",
   "execution_count": 141,
   "metadata": {},
   "outputs": [
    {
     "data": {
      "text/plain": [
       "array([[0, 1, 2],\n",
       "       [0, 1, 2],\n",
       "       [0, 1, 2]])"
      ]
     },
     "execution_count": 141,
     "metadata": {},
     "output_type": "execute_result"
    }
   ],
   "source": [
    "np.full_like(matriz, ))np.arange(3"
   ]
  },
  {
   "cell_type": "code",
   "execution_count": 136,
   "metadata": {},
   "outputs": [
    {
     "data": {
      "text/plain": [
       "array([[1, 2, 3],\n",
       "       [4, 5, 6],\n",
       "       [7, 8, 9]])"
      ]
     },
     "execution_count": 136,
     "metadata": {},
     "output_type": "execute_result"
    }
   ],
   "source": [
    "np.arange(1, 10).reshape((3, 3))"
   ]
  },
  {
   "cell_type": "markdown",
   "metadata": {},
   "source": [
    "#### `rand`"
   ]
  },
  {
   "cell_type": "code",
   "execution_count": 3,
   "metadata": {},
   "outputs": [],
   "source": [
    "import random"
   ]
  },
  {
   "cell_type": "code",
   "execution_count": 2,
   "metadata": {},
   "outputs": [],
   "source": [
    "import numpy as np"
   ]
  },
  {
   "cell_type": "code",
   "execution_count": 7,
   "metadata": {},
   "outputs": [
    {
     "data": {
      "text/plain": [
       "array([0.49508012, 0.2786    , 0.65799789, 0.57806841, 0.70199106,\n",
       "       0.47408794, 0.61037511, 0.13247294, 0.47651114, 0.28559877])"
      ]
     },
     "execution_count": 7,
     "metadata": {},
     "output_type": "execute_result"
    }
   ],
   "source": [
    "np.random.rand(10)"
   ]
  },
  {
   "cell_type": "code",
   "execution_count": 6,
   "metadata": {},
   "outputs": [
    {
     "data": {
      "text/plain": [
       "array([[0.91400698, 0.6001377 ],\n",
       "       [0.38310109, 0.81691229],\n",
       "       [0.27044961, 0.41992528],\n",
       "       [0.70070805, 0.94089794],\n",
       "       [0.43866435, 0.67590359],\n",
       "       [0.85569597, 0.46053794],\n",
       "       [0.23683425, 0.21200209],\n",
       "       [0.93982992, 0.56137582],\n",
       "       [0.9379236 , 0.47399477],\n",
       "       [0.80137871, 0.66510383]])"
      ]
     },
     "execution_count": 6,
     "metadata": {},
     "output_type": "execute_result"
    }
   ],
   "source": [
    "np.random.rand(10, 2)"
   ]
  },
  {
   "cell_type": "markdown",
   "metadata": {},
   "source": [
    "#### `randn`"
   ]
  },
  {
   "cell_type": "code",
   "execution_count": 8,
   "metadata": {},
   "outputs": [
    {
     "data": {
      "text/plain": [
       "array([-1.07076932e-01, -8.79521799e-01, -7.55712857e-01, -1.26862095e+00,\n",
       "       -4.93043334e-01,  6.58766998e-01, -1.56513458e+00, -1.06068594e+00,\n",
       "       -1.14729529e+00,  5.24802182e-02, -4.74465684e-01, -6.56112357e-01,\n",
       "        5.73668385e-01,  1.94682284e+00,  6.75599713e-01,  1.70022351e+00,\n",
       "        5.27542031e-01, -1.78354208e-01,  6.60947107e-01,  4.87558668e-01,\n",
       "       -1.57210128e-01,  1.07193018e+00, -8.76949527e-01, -3.22061861e-01,\n",
       "       -2.24000447e+00, -1.66324758e+00, -6.10088425e-01, -1.28608860e+00,\n",
       "        1.64574880e+00, -2.40962372e-01,  1.50092172e+00,  6.04111687e-01,\n",
       "       -3.01981971e-01,  6.43360187e-01, -4.41655302e-01,  2.54019893e-01,\n",
       "       -7.50980435e-01, -1.13041642e-01,  5.50673619e-01,  5.80617393e-01,\n",
       "       -5.38731939e-01, -4.94251701e-01,  3.93575235e-01,  6.47436731e-01,\n",
       "       -7.69716070e-01, -8.58206066e-01, -8.19133621e-01, -1.07178730e+00,\n",
       "        8.69162183e-01,  5.77467442e-02, -7.66712938e-01,  2.58298801e-01,\n",
       "        5.21670517e-02, -9.97421496e-01, -8.65802627e-02,  5.77674450e-01,\n",
       "       -9.46386127e-01, -1.18569515e+00,  5.22548747e-01,  2.54928678e+00,\n",
       "        1.35267102e+00, -1.30659721e+00,  1.25158986e-01,  9.96565964e-01,\n",
       "       -4.35552704e-01,  7.60509208e-01,  1.15025140e+00, -6.32169225e-01,\n",
       "       -8.83217420e-01, -1.92876618e-01, -7.11266740e-01,  5.14445199e-01,\n",
       "        1.16715771e+00,  2.25464985e-01, -1.03775765e+00, -2.06330121e-01,\n",
       "       -1.82650143e+00,  1.05895112e+00,  8.44962464e-01,  4.41542991e-01,\n",
       "        6.63976151e-01, -2.37290005e-01, -7.46314441e-01,  1.95295972e+00,\n",
       "        6.50847525e-01, -1.13695332e+00, -9.58541013e-01,  1.32763511e+00,\n",
       "        3.42331551e-01, -1.53859446e+00,  5.93481284e-01,  6.79995889e-01,\n",
       "       -1.07248814e-01, -1.33507477e+00, -1.17368584e+00, -1.57019664e-01,\n",
       "       -1.53468766e+00, -2.98060258e-01, -6.60520276e-02,  3.50744364e-01,\n",
       "        1.79151784e+00,  1.82876619e+00,  4.06865392e-01,  8.34900016e-02,\n",
       "        1.51552109e+00, -4.61688485e-01, -6.25035215e-01,  2.99456054e+00,\n",
       "       -9.23550996e-01,  1.74469348e-01,  1.71266132e-01, -9.49756989e-01,\n",
       "        1.34720276e+00,  4.37413847e-02, -1.31999980e+00, -1.46197419e+00,\n",
       "        9.88763505e-01,  9.37333022e-02, -1.20209044e-01,  1.85343829e-01,\n",
       "        6.03666894e-01,  7.35998369e-01,  2.43647393e-01,  4.97125364e-01,\n",
       "        5.15273329e-01,  1.63433666e+00, -1.57947651e+00,  6.56102230e-01,\n",
       "        1.18131750e+00,  1.04132739e+00, -1.05861371e+00, -2.33341671e-01,\n",
       "        1.20657007e+00, -2.36338434e-01,  1.40835269e+00,  1.61247117e-01,\n",
       "        1.22267276e+00,  7.01316355e-01, -2.40966095e+00,  1.40053319e-01,\n",
       "       -5.17429368e-01,  2.83286851e-01, -5.63149254e-01,  2.80381704e-01,\n",
       "        5.51623240e-01,  9.54613455e-01, -3.32774838e-01,  1.34203554e+00,\n",
       "        5.74793383e-01, -1.72939384e+00,  1.97551224e+00, -8.00843167e-01,\n",
       "       -1.35857140e+00, -7.77368256e-01, -9.64797491e-01, -8.39518662e-02,\n",
       "       -1.73719233e-01,  1.31896538e+00,  3.29622716e-01, -1.53169788e+00,\n",
       "       -9.82071083e-01, -1.25461818e-02,  1.84877049e-02,  3.87811492e-01,\n",
       "       -2.68095661e-03,  7.30343895e-01,  1.81250876e+00, -1.35006905e+00,\n",
       "       -2.01658692e+00, -2.45103390e-01, -6.78220211e-01,  8.54583572e-01,\n",
       "       -1.34971196e+00,  9.75147064e-01,  1.11737690e+00,  8.77263080e-01,\n",
       "       -1.12848379e+00, -2.03340322e+00,  5.81280903e-02, -9.56509983e-01,\n",
       "        1.19566373e+00,  1.04268932e+00,  6.73275842e-01, -1.27600101e+00,\n",
       "       -4.14925713e-01, -5.59722379e-01, -5.88083154e-01, -1.39010431e+00,\n",
       "       -1.13024001e+00,  8.92529614e-01,  2.06850336e+00,  9.65660180e-01,\n",
       "        8.05391657e-01, -8.43739334e-01, -1.90182455e+00,  6.45427147e-01,\n",
       "        1.00154150e+00, -2.50179260e-01,  5.35365475e-01,  4.92033242e-01,\n",
       "        6.02688982e-01, -1.42736318e+00, -6.77731222e-01, -3.28489425e-01,\n",
       "        1.04498581e+00,  4.80261631e-01,  9.28601060e-01, -3.46651641e+00,\n",
       "       -2.78044133e-01,  3.67219294e-01,  3.57006158e-01, -1.75844646e-01,\n",
       "       -1.15113411e+00,  2.83446735e-01, -9.26446739e-01,  3.32851002e-01,\n",
       "       -3.01881575e-01, -4.70381763e-01, -3.24920940e-01, -1.09702293e+00,\n",
       "       -1.07972772e+00, -1.32313328e+00, -7.54705021e-01, -3.13834672e-01,\n",
       "        6.49769256e-01,  2.02344497e-01,  3.99465058e-01, -4.54634891e-01,\n",
       "       -1.53927077e+00,  6.19963477e-01,  6.95012586e-01,  8.59976562e-02,\n",
       "       -9.19660932e-01, -3.65347946e-01, -2.25923841e-02,  1.86180379e-01,\n",
       "        7.23276171e-01,  8.79046140e-01,  2.15582143e+00, -5.26644901e-01,\n",
       "        1.75323560e-01,  6.18527692e-01, -8.62894139e-02,  1.59578719e+00,\n",
       "       -1.47072066e-01,  1.44343121e+00,  5.95151501e-01, -9.39133150e-01,\n",
       "       -6.57589670e-01, -1.15453044e+00, -7.33359838e-01,  3.61540360e-01,\n",
       "       -1.18560712e-01,  1.59192723e+00,  1.64206166e-01,  1.14463552e+00,\n",
       "        3.01979843e-01,  7.45935637e-01, -2.95145687e-01,  5.38672392e-01,\n",
       "       -1.21045868e+00, -6.56664901e-01, -5.95520115e-01, -1.42976095e+00,\n",
       "       -1.93016700e+00, -1.59331354e+00, -2.14441128e+00,  6.66726501e-01,\n",
       "       -4.83578393e-02,  5.54507935e-01, -2.24384972e-01, -2.85448200e-01,\n",
       "        5.39737498e-02, -3.64425225e-01, -8.06982866e-01, -1.07980032e+00,\n",
       "       -9.45452200e-01,  4.74438803e-01,  1.25257424e+00, -7.87733282e-01,\n",
       "       -5.85179162e-01, -1.14124325e+00, -1.74789405e+00, -1.16429255e+00,\n",
       "        4.33374077e-01,  6.66975733e-01, -2.11870721e-02, -3.37382806e-01,\n",
       "       -1.05844184e+00, -1.05855899e-01,  4.81198632e-01, -4.58332039e-01,\n",
       "       -7.77020768e-01,  3.05131753e-01, -4.86453333e-01, -6.02707473e-01,\n",
       "       -3.58703358e-01, -1.15738663e-01, -4.25720294e-01,  1.17524936e+00,\n",
       "        4.75875418e-01, -3.09665940e-01, -2.86774255e-01, -5.45376980e-01,\n",
       "        3.45614249e-01,  1.07081223e+00,  3.50211583e-01, -3.89590005e-01,\n",
       "       -8.28612940e-01,  5.54379882e-01, -3.99223340e-01,  1.16652217e+00,\n",
       "       -1.91048889e+00,  2.56672106e-01,  1.44098691e+00, -1.92209235e+00,\n",
       "       -1.10743010e+00, -1.40171103e+00, -2.91623489e-01, -1.37492186e+00,\n",
       "        1.10312318e+00, -9.39260864e-01,  1.27040472e+00,  8.73558512e-01,\n",
       "        1.96386187e-01, -1.11347326e+00,  1.37024072e+00, -4.49999757e-01,\n",
       "       -6.24571866e-01,  9.16192544e-01, -1.04314067e+00,  1.04019108e+00,\n",
       "       -7.81762578e-01, -3.97389279e-01,  7.78572223e-01, -7.80690055e-01,\n",
       "       -5.30484658e-01, -3.62582299e-01, -7.47713027e-03, -1.49110492e+00,\n",
       "       -5.84508730e-01, -1.40218127e+00,  4.15442649e-01, -1.98984040e+00,\n",
       "       -3.42363093e-01, -1.95271993e+00,  9.01782264e-01,  2.73712232e-01,\n",
       "        1.61912636e+00, -1.73259295e-01, -4.36423143e-01, -1.74623975e+00,\n",
       "        1.61670847e-01, -1.47231416e+00, -2.71292232e-01,  2.47262930e-01,\n",
       "       -9.52802478e-01,  5.16693834e-02,  1.96899507e-01, -3.48755213e-01,\n",
       "        5.02906816e-01, -1.25512829e+00, -8.89116757e-01,  1.18847073e+00,\n",
       "        4.28428220e-01,  1.77456237e+00, -6.59631419e-01, -1.34726459e+00,\n",
       "       -3.52267501e-01, -1.64871058e+00,  3.39708097e-02,  2.65161459e+00,\n",
       "       -1.49836293e-01, -8.20224319e-02, -1.09394292e-01, -8.81651700e-01,\n",
       "       -1.20154056e+00,  5.57224061e-01, -7.20051825e-01, -4.08262180e+00,\n",
       "       -3.54041696e-01, -3.56183920e-01, -1.52152252e-01, -8.20368761e-01,\n",
       "       -1.52953896e+00,  3.60649689e-01, -1.16827404e+00, -1.45290152e+00,\n",
       "        4.07679510e-01, -9.55671525e-01, -1.61887279e+00, -5.92021161e-01,\n",
       "        7.47779175e-01, -7.22048485e-01, -1.25251304e+00, -2.93322690e-01,\n",
       "       -3.55381819e-02,  4.57833603e-01, -5.46846564e-01,  4.61455131e-01,\n",
       "        4.80566446e-01,  5.11867603e-02, -2.35081807e+00,  2.36875998e+00,\n",
       "       -6.02500143e-01,  3.75748212e-01,  2.90133499e-01, -2.39089296e+00,\n",
       "        1.39849447e+00,  9.82557806e-01, -3.99596346e-01,  7.89855137e-01,\n",
       "       -3.71126370e-01, -8.30522941e-02,  2.11141298e-01, -1.91077091e+00,\n",
       "       -1.79689835e+00,  2.54798875e+00,  5.35964463e-01,  1.67937211e+00,\n",
       "       -9.15172625e-01, -1.17119898e+00,  2.69069165e-01,  2.92475988e+00,\n",
       "       -9.22728909e-01,  9.87278898e-01, -1.54028507e+00, -1.50698098e+00,\n",
       "       -2.33030269e+00,  5.86698742e-01, -2.09814670e+00,  2.10506486e+00,\n",
       "       -1.90120172e+00,  6.28385585e-01, -1.76256464e-01, -2.62363870e-01,\n",
       "       -1.81257088e-01,  3.88761686e-01,  1.37070763e+00,  3.56652227e-01,\n",
       "       -1.47236193e+00, -1.74354449e+00, -1.87483235e+00, -8.68764744e-01,\n",
       "       -6.99157989e-01,  5.58608744e-01, -1.26417959e+00, -5.29141835e-01,\n",
       "        1.52359317e-01,  1.58290898e-01,  6.08979723e-01, -1.44596590e+00,\n",
       "       -1.14415867e+00,  3.77321107e-01, -1.38811016e+00,  1.30969221e+00,\n",
       "        3.72080473e-01, -2.89238554e-01, -1.01473382e+00,  8.11815890e-01,\n",
       "       -1.23163678e-02,  1.91965617e+00, -1.47408405e+00, -4.56445106e-01,\n",
       "       -7.08198682e-01,  1.75668610e+00,  2.71130503e-01, -5.82769423e-02,\n",
       "        9.23582756e-01,  1.12268946e+00,  5.65776288e-02, -2.35319719e-01,\n",
       "       -3.01169380e-01, -2.67976293e+00, -1.27309277e+00,  8.56034133e-01,\n",
       "        5.70901339e-01, -4.20136233e-01, -1.56617042e+00,  5.53300604e-01,\n",
       "        1.24795184e+00, -2.79063514e-01,  7.59038276e-01,  1.49351765e+00,\n",
       "        5.96214809e-01,  6.75357322e-01,  1.55738392e+00, -1.42568436e+00,\n",
       "        5.99840905e-01,  2.16855450e+00, -1.32329708e+00,  2.82020246e+00,\n",
       "       -1.04814214e+00, -1.57005512e+00, -1.76800567e+00,  4.15249908e-01,\n",
       "       -2.62606137e-01,  8.59789142e-01, -1.71955364e+00, -1.43397864e-01,\n",
       "       -9.76140897e-01,  2.26939521e+00, -7.59102485e-01, -5.04348219e-01,\n",
       "        1.19763048e-01, -2.46569288e-01,  1.06642330e+00,  3.97397681e-01,\n",
       "        9.11164749e-01, -1.06590903e+00, -9.58627522e-02, -8.41038297e-01,\n",
       "       -9.87321678e-01,  3.15434538e-01,  1.11536998e-01,  1.76378807e+00,\n",
       "        6.76591646e-01,  4.21489826e-01, -1.46866107e-02,  3.39918243e-02,\n",
       "        1.36106859e+00, -9.77041005e-01,  1.85039399e-01,  1.12650655e+00,\n",
       "       -1.07807687e+00,  5.67836768e-01,  1.44292225e+00, -1.04159019e+00,\n",
       "        9.28756539e-01, -5.36615579e-01,  3.72943888e-01,  1.39158703e+00,\n",
       "       -6.38871159e-01,  2.20515968e-01, -8.22534876e-01, -1.27634041e-01,\n",
       "       -6.95747839e-01,  3.01544131e-01, -4.81917839e-01,  2.64515966e-02,\n",
       "        7.88891640e-01, -6.78901744e-01, -1.40810029e+00, -1.70136602e-02,\n",
       "       -1.22149949e-01, -4.51781410e-01,  2.95399741e-01,  3.76405347e-01,\n",
       "       -1.04923142e+00,  2.57997154e-01, -1.57133100e+00, -9.47248233e-01,\n",
       "        1.33271744e+00,  1.42288915e+00, -8.07013620e-01, -1.88723921e+00,\n",
       "        1.16936503e+00, -2.38425260e+00, -1.67112141e-01, -2.45030300e-01,\n",
       "        3.10510572e-01,  1.70185067e+00,  4.99953995e-01, -2.11343814e-01,\n",
       "        7.10241447e-01, -1.23203330e+00, -8.47810572e-01, -6.61003082e-01,\n",
       "        5.19573671e-01, -1.36262872e+00,  2.96516135e-02,  1.27972150e+00,\n",
       "        6.58339039e-01,  1.08946034e+00,  1.70372053e-03, -1.22933463e+00,\n",
       "        6.71804186e-01,  8.68518750e-01,  8.32503628e-01,  2.16763505e+00,\n",
       "       -1.09219836e+00, -1.22244703e+00, -4.44273817e-01, -5.25180669e-01,\n",
       "       -8.30948096e-01,  1.87292957e+00,  3.89343145e-01,  6.60744679e-01,\n",
       "        3.73323131e-01, -9.40893412e-01,  2.14426624e-01, -1.21464258e+00,\n",
       "       -1.04546564e-01,  9.77999170e-01,  3.30790981e-01, -1.56151800e+00,\n",
       "        4.93502838e-01,  5.61190037e-02,  5.36354256e-01,  8.40796460e-01,\n",
       "        7.20922984e-01,  1.87533779e-01, -2.07826905e-01, -1.31229740e+00,\n",
       "        1.57788249e+00, -5.55612030e-01, -6.83656785e-01,  1.23712003e+00,\n",
       "        3.24007621e-01,  9.38302240e-01, -9.01211681e-01, -1.54830815e+00,\n",
       "        8.05746494e-01,  1.03283640e+00,  3.69538458e-01,  2.11099606e-01,\n",
       "       -8.42617965e-01,  2.73367353e-01,  2.71460058e-01,  1.25013537e+00,\n",
       "        3.02074742e-01, -2.04293475e+00, -6.85815851e-01,  8.57906217e-02,\n",
       "        6.43366438e-01, -8.44439529e-01, -4.22688232e-01,  1.05886854e+00,\n",
       "       -1.78745169e-01, -1.23785167e+00, -5.90303509e-01, -1.06310707e-01,\n",
       "        1.18018106e+00, -5.21490832e-01,  2.36354050e+00,  6.10406606e-01,\n",
       "       -3.77709207e-01, -1.53088928e+00,  9.72291293e-01, -1.18802919e+00,\n",
       "       -1.95852766e+00, -2.64522697e+00, -3.53113935e-01, -1.70198854e-01,\n",
       "        5.29216120e-01, -9.61795783e-02,  1.85426050e-01,  1.00495322e+00,\n",
       "       -6.46424127e-01, -1.20403856e+00,  1.96048075e-01, -1.88718358e-01,\n",
       "       -1.00448256e+00,  9.56891459e-01,  2.67707197e+00, -8.39611809e-02,\n",
       "       -7.95138386e-01,  4.53739458e-01,  3.11464835e-01, -1.24719671e+00,\n",
       "        1.43232400e-03, -3.93055549e-01,  1.17737814e+00, -3.60205579e-01,\n",
       "       -1.70772605e+00, -1.82964406e+00,  9.85946392e-01, -1.66670223e+00,\n",
       "        1.36614090e+00, -1.77322196e-02, -1.57591073e+00, -6.84314319e-01,\n",
       "        4.08112750e-01, -1.97403504e-01, -1.25661966e+00,  7.47609236e-01,\n",
       "        8.94392471e-01,  1.30805103e+00, -1.24866813e-01, -1.04504195e+00,\n",
       "       -8.84741025e-01,  3.77722595e-01, -2.27537637e+00,  8.80312392e-01,\n",
       "        1.38107510e+00, -3.46504079e-01,  2.99608659e-01,  2.97726568e-01,\n",
       "        2.11913190e-01,  2.73190846e-01,  9.70788871e-01,  1.06032681e+00,\n",
       "       -3.88163417e-01,  2.01555694e+00,  3.83407516e-02, -8.44688682e-01,\n",
       "       -5.63988495e-01, -9.42359275e-01,  1.53468280e+00, -3.27889017e-01,\n",
       "        2.05494084e-01,  1.07878962e+00, -4.66127453e-02, -2.68377872e-01,\n",
       "        3.97840078e-01,  4.02593627e-01, -1.51745276e+00,  3.26988752e-01,\n",
       "       -1.07131324e-01,  7.25678116e-03, -2.77335295e+00, -5.45523895e-01,\n",
       "       -5.66959386e-02,  2.02029750e-02,  1.78097770e-01, -1.31070384e+00,\n",
       "        6.31185731e-01, -3.92172976e-01, -1.45381068e-02, -1.98024448e-01,\n",
       "       -1.68292561e+00,  1.37529550e+00,  5.59106385e-01, -1.83671857e+00,\n",
       "       -3.82242492e-01,  1.65667729e-01,  1.29013369e+00,  6.99890729e-01,\n",
       "        1.16436645e+00,  3.87430664e-01,  1.59062714e+00,  2.02821858e+00,\n",
       "       -1.05898986e+00,  9.12950275e-01,  5.76355740e-01,  5.18541201e-01,\n",
       "       -4.52774092e-02,  1.39168396e+00, -9.53727548e-01, -1.74489196e+00,\n",
       "        7.69003057e-01, -9.16004629e-01,  7.99170722e-02,  1.21822651e-01,\n",
       "       -1.12435966e+00,  9.04423412e-01, -2.26908627e+00, -1.41931553e-01,\n",
       "        1.02907074e-02, -1.30844541e+00, -6.00242885e-01,  2.03855909e+00,\n",
       "       -1.38326473e+00,  3.93972509e-01,  3.34498695e-02, -1.23253360e+00,\n",
       "       -7.13502616e-01, -6.32135337e-01, -1.58927233e+00,  2.10243822e+00,\n",
       "       -3.90500824e-01,  7.65773951e-01,  1.07397074e+00,  8.38660763e-01,\n",
       "        6.22361368e-01,  4.93774738e-01, -7.69289705e-01, -8.68362558e-01,\n",
       "       -1.16209652e+00,  1.37954594e+00,  4.67331199e-01,  8.67043721e-01,\n",
       "        5.05684702e-01, -1.38003137e+00,  3.46694508e-01, -7.40050847e-01,\n",
       "       -7.68160452e-02,  7.88698138e-01,  1.22179683e+00, -1.28055263e+00,\n",
       "        7.11563610e-01,  2.06394268e-02, -1.73863786e-01,  1.12699034e+00,\n",
       "        2.09039872e-01, -2.86573898e-01, -4.77616882e-01, -1.74282715e+00,\n",
       "       -1.63054581e-01, -7.68221626e-01, -6.96048865e-01,  2.02069158e+00,\n",
       "        2.76575510e-01,  9.26067306e-01, -7.84446213e-01, -2.85709534e+00,\n",
       "       -5.48784597e-01,  8.89790683e-01,  9.20860918e-01,  1.25955338e+00,\n",
       "       -1.21180532e+00, -8.19313912e-01,  8.14002763e-01,  6.47661391e-01,\n",
       "        5.81744967e-01,  1.77854945e-01,  8.50337678e-01, -2.43477724e-01,\n",
       "        5.09252001e-01, -4.66650161e-01,  3.36882996e-01,  6.31496657e-01,\n",
       "        5.55852696e-01,  3.24277769e-01,  1.50508927e+00, -6.32128470e-01,\n",
       "        2.08763310e-01,  2.26951617e+00,  6.08414764e-01,  4.35978096e-01,\n",
       "        2.08292881e-01,  5.54150422e-01, -1.27313520e+00,  4.08768867e-01,\n",
       "       -1.14775511e+00,  4.67032619e-01,  2.36230160e+00,  5.83574263e-01,\n",
       "       -6.91248808e-01, -8.32868901e-01,  1.81594853e-01, -8.17948338e-01,\n",
       "       -5.46072874e-01, -1.87956739e+00,  2.92713739e-01, -2.93694256e-01,\n",
       "        1.42260926e+00, -1.22553246e+00, -3.76011117e-01, -1.09268101e+00,\n",
       "        1.31947760e+00,  1.49243586e-01,  1.24927658e-01, -1.46387804e-01,\n",
       "        7.71693530e-01, -1.19141056e-01,  9.15146372e-02,  1.11432140e+00,\n",
       "        1.69825320e-01, -1.95687775e+00, -1.91441253e-01, -1.06728274e+00,\n",
       "        5.71567617e-01,  9.55632459e-01, -1.48081605e+00, -2.21050849e-01,\n",
       "        1.86387864e-01, -9.03199144e-01, -1.43671983e+00,  1.76095490e+00,\n",
       "       -1.40119156e-01, -1.34127323e+00, -1.81817740e+00, -2.57677661e-01,\n",
       "       -7.85830343e-02,  1.29443721e+00, -1.38195429e-01,  1.10015802e-01,\n",
       "       -5.35146335e-01, -1.58346275e-01,  4.81254253e-01, -4.81209865e-01,\n",
       "        1.38602458e-01,  2.85315443e-01,  5.58032852e-01, -9.56566075e-01,\n",
       "       -1.39644592e+00, -4.78262034e-01,  5.82754106e-01,  8.64539823e-01,\n",
       "       -1.26180464e+00,  3.32343155e-01,  1.61410661e+00, -1.93448062e-01,\n",
       "       -4.35254000e-01,  2.26266968e+00, -2.06879324e-02,  2.83092330e+00,\n",
       "        1.07085032e+00, -1.57827014e+00,  2.62210958e+00,  2.12001546e+00,\n",
       "        8.06909941e-01,  1.68559032e+00, -1.01276465e+00, -6.52250035e-02,\n",
       "        1.20253179e+00, -4.15842934e-01,  1.07267922e+00,  5.96706715e-01,\n",
       "        9.09016998e-01, -1.58441317e-01, -1.57656586e+00,  6.27828121e-01,\n",
       "       -2.09721110e-01,  8.01083407e-01, -1.25392383e+00,  5.16589783e-01,\n",
       "        1.67008474e+00, -7.75365927e-01, -1.12942499e+00,  1.49504778e+00,\n",
       "       -5.65082932e-01, -5.92944191e-01, -6.60282566e-01,  1.38629518e+00,\n",
       "       -1.52904015e+00, -6.08169572e-01, -1.43604188e+00,  6.60140826e-01,\n",
       "       -1.50770104e+00, -4.65979312e-01,  6.18766756e-02,  1.02195043e+00,\n",
       "       -2.24812852e+00,  1.44484698e+00,  1.49919361e+00, -2.66677691e+00,\n",
       "       -7.52809460e-02,  1.13194673e+00,  1.79423038e-01,  3.67998515e-01,\n",
       "        9.30180082e-02, -1.10215986e-01, -4.34968732e-01,  3.91830735e-01,\n",
       "        9.61716713e-01, -2.55317529e+00,  1.38023506e+00,  2.52393224e+00,\n",
       "       -9.68424629e-02, -1.21201183e+00,  6.70910289e-01,  1.38679847e+00,\n",
       "       -1.33928925e-01, -8.55274789e-01, -1.08864767e+00, -1.20891033e+00,\n",
       "        2.20638439e-02,  1.28108914e-01, -2.00843446e+00, -3.90235204e-01,\n",
       "       -6.72640301e-02, -2.30426866e-01, -1.08337445e-01, -7.26146000e-01,\n",
       "        1.90620869e+00,  3.07730461e-02,  2.88233743e-01,  2.56784482e-01,\n",
       "       -1.95031362e+00,  1.05588874e+00,  1.63026662e-01, -9.19790978e-01,\n",
       "       -2.32001657e+00,  9.26196626e-01, -2.69167076e-01,  3.03816575e-01,\n",
       "        1.96703675e-01,  4.83503072e-01, -1.06570297e+00,  1.48727631e+00,\n",
       "       -1.57807042e+00,  1.35633643e+00,  5.56750435e-01,  1.48716419e-01,\n",
       "       -6.17854791e-01, -2.90674127e-02,  4.46309217e-01, -2.66403846e-01,\n",
       "       -8.49553937e-01, -1.71685640e+00,  7.60208391e-01,  5.29619079e-01,\n",
       "       -2.19799935e+00, -2.05273550e-01,  7.39596257e-01, -1.91947698e+00,\n",
       "       -1.14902301e+00, -1.32268333e-01,  1.23106206e+00,  1.61323592e+00,\n",
       "        7.78574483e-01, -9.63058710e-01,  9.53361471e-01, -1.88832192e+00,\n",
       "       -3.85036211e-01, -6.97805733e-01, -6.71713334e-02,  2.93418107e-02])"
      ]
     },
     "execution_count": 8,
     "metadata": {},
     "output_type": "execute_result"
    }
   ],
   "source": [
    "np.random.randn(1000)"
   ]
  },
  {
   "cell_type": "code",
   "execution_count": 9,
   "metadata": {},
   "outputs": [
    {
     "data": {
      "text/plain": [
       "array([[ 0.55494   ,  0.4122126 ,  0.70159153],\n",
       "       [-2.00929169,  0.77587166,  0.66229606],\n",
       "       [-0.6400271 , -0.46515158, -0.61236476]])"
      ]
     },
     "execution_count": 9,
     "metadata": {},
     "output_type": "execute_result"
    }
   ],
   "source": [
    "np.random.randn(3, 3)"
   ]
  },
  {
   "cell_type": "markdown",
   "metadata": {},
   "source": [
    "#### `randint`"
   ]
  },
  {
   "cell_type": "code",
   "execution_count": 15,
   "metadata": {},
   "outputs": [
    {
     "data": {
      "text/plain": [
       "array([10,  7,  7,  4,  1,  7,  4,  4,  3,  9,  9,  5,  6,  4,  8,  8,  1,\n",
       "        4,  9,  1])"
      ]
     },
     "execution_count": 15,
     "metadata": {},
     "output_type": "execute_result"
    }
   ],
   "source": [
    "# np.random.randint(min, max, qtd_elementos)\n",
    "\n",
    "np.random.randint(1, 11, 20)"
   ]
  },
  {
   "cell_type": "code",
   "execution_count": 16,
   "metadata": {},
   "outputs": [
    {
     "data": {
      "text/plain": [
       "array([[ 4,  6,  1,  3],\n",
       "       [ 3,  1,  4,  6],\n",
       "       [10,  2,  8,  9]])"
      ]
     },
     "execution_count": 16,
     "metadata": {},
     "output_type": "execute_result"
    }
   ],
   "source": [
    "np.random.randint(1, 11, (3, 4))"
   ]
  },
  {
   "cell_type": "code",
   "execution_count": 18,
   "metadata": {},
   "outputs": [
    {
     "data": {
      "text/plain": [
       "array([[8.75498657, 2.81009647, 8.99935381],\n",
       "       [6.91047419, 5.25869216, 3.67635164],\n",
       "       [7.48678855, 2.8570676 , 7.41876249]])"
      ]
     },
     "execution_count": 18,
     "metadata": {},
     "output_type": "execute_result"
    }
   ],
   "source": [
    "np.random.rand(3, 3) * 10"
   ]
  },
  {
   "cell_type": "markdown",
   "metadata": {},
   "source": [
    "#### `uniform`"
   ]
  },
  {
   "cell_type": "code",
   "execution_count": 24,
   "metadata": {},
   "outputs": [
    {
     "data": {
      "text/plain": [
       "array([[5.44706322, 5.72017295],\n",
       "       [1.6217112 , 1.28631091],\n",
       "       [5.08965825, 4.52365705]])"
      ]
     },
     "execution_count": 24,
     "metadata": {},
     "output_type": "execute_result"
    }
   ],
   "source": [
    "np.random.uniform(1, 10, (3, 2))"
   ]
  },
  {
   "cell_type": "code",
   "execution_count": 22,
   "metadata": {},
   "outputs": [
    {
     "data": {
      "text/plain": [
       "10.231"
      ]
     },
     "execution_count": 22,
     "metadata": {},
     "output_type": "execute_result"
    }
   ],
   "source": [
    "round(10.2312312334, 3)"
   ]
  },
  {
   "cell_type": "code",
   "execution_count": 23,
   "metadata": {},
   "outputs": [
    {
     "data": {
      "text/plain": [
       "array([8.399, 6.842, 4.909, 1.621, 8.016, 4.821, 1.269, 1.753, 6.836,\n",
       "       4.226])"
      ]
     },
     "execution_count": 23,
     "metadata": {},
     "output_type": "execute_result"
    }
   ],
   "source": [
    "np.around(np.random.uniform(1, 10, 10), decimals=3)"
   ]
  },
  {
   "cell_type": "code",
   "execution_count": 26,
   "metadata": {},
   "outputs": [
    {
     "data": {
      "text/plain": [
       "2"
      ]
     },
     "execution_count": 26,
     "metadata": {},
     "output_type": "execute_result"
    }
   ],
   "source": [
    "np.random.choice(np.array([1, 2, 3]))"
   ]
  },
  {
   "cell_type": "markdown",
   "metadata": {},
   "source": [
    "#### `identity`"
   ]
  },
  {
   "cell_type": "code",
   "execution_count": 27,
   "metadata": {},
   "outputs": [
    {
     "data": {
      "text/plain": [
       "array([[1., 0., 0., 0., 0.],\n",
       "       [0., 1., 0., 0., 0.],\n",
       "       [0., 0., 1., 0., 0.],\n",
       "       [0., 0., 0., 1., 0.],\n",
       "       [0., 0., 0., 0., 1.]])"
      ]
     },
     "execution_count": 27,
     "metadata": {},
     "output_type": "execute_result"
    }
   ],
   "source": [
    "np.identity(5)"
   ]
  },
  {
   "cell_type": "markdown",
   "metadata": {},
   "source": [
    "#### `diag`"
   ]
  },
  {
   "cell_type": "code",
   "execution_count": 28,
   "metadata": {},
   "outputs": [
    {
     "data": {
      "text/plain": [
       "array([[1, 0, 0],\n",
       "       [0, 2, 0],\n",
       "       [0, 0, 3]])"
      ]
     },
     "execution_count": 28,
     "metadata": {},
     "output_type": "execute_result"
    }
   ],
   "source": [
    "np.diag([1, 2, 3])"
   ]
  },
  {
   "cell_type": "code",
   "execution_count": 31,
   "metadata": {},
   "outputs": [],
   "source": [
    "matriz = np.array([[1, 2], [3, 4]])"
   ]
  },
  {
   "cell_type": "code",
   "execution_count": 32,
   "metadata": {},
   "outputs": [
    {
     "data": {
      "text/plain": [
       "array([1, 4])"
      ]
     },
     "execution_count": 32,
     "metadata": {},
     "output_type": "execute_result"
    }
   ],
   "source": [
    "matriz.diagonal()"
   ]
  },
  {
   "cell_type": "code",
   "execution_count": 34,
   "metadata": {},
   "outputs": [
    {
     "data": {
      "text/plain": [
       "array([1, 4])"
      ]
     },
     "execution_count": 34,
     "metadata": {},
     "output_type": "execute_result"
    }
   ],
   "source": [
    "np.diagonal(matriz)"
   ]
  },
  {
   "cell_type": "code",
   "execution_count": 38,
   "metadata": {},
   "outputs": [
    {
     "data": {
      "text/plain": [
       "array([[0, 1, 0],\n",
       "       [0, 0, 2],\n",
       "       [0, 0, 0]])"
      ]
     },
     "execution_count": 38,
     "metadata": {},
     "output_type": "execute_result"
    }
   ],
   "source": [
    "np.diag([1, 2], k=-1)\n",
    "np.diag([1, 2], k=1)"
   ]
  },
  {
   "cell_type": "markdown",
   "metadata": {},
   "source": [
    "## 6. Operações entre arrays"
   ]
  },
  {
   "cell_type": "code",
   "execution_count": 39,
   "metadata": {},
   "outputs": [],
   "source": [
    "array = np.arange(1, 10)"
   ]
  },
  {
   "cell_type": "code",
   "execution_count": 40,
   "metadata": {},
   "outputs": [
    {
     "data": {
      "text/plain": [
       "array([1, 2, 3, 4, 5, 6, 7, 8, 9])"
      ]
     },
     "execution_count": 40,
     "metadata": {},
     "output_type": "execute_result"
    }
   ],
   "source": [
    "array"
   ]
  },
  {
   "cell_type": "code",
   "execution_count": 41,
   "metadata": {},
   "outputs": [
    {
     "data": {
      "text/plain": [
       "array([ 3,  4,  5,  6,  7,  8,  9, 10, 11])"
      ]
     },
     "execution_count": 41,
     "metadata": {},
     "output_type": "execute_result"
    }
   ],
   "source": [
    "array + 2"
   ]
  },
  {
   "cell_type": "code",
   "execution_count": 42,
   "metadata": {},
   "outputs": [
    {
     "data": {
      "text/plain": [
       "array([0, 1, 2, 3, 4, 5, 6, 7, 8])"
      ]
     },
     "execution_count": 42,
     "metadata": {},
     "output_type": "execute_result"
    }
   ],
   "source": [
    "array - 1"
   ]
  },
  {
   "cell_type": "code",
   "execution_count": 43,
   "metadata": {},
   "outputs": [
    {
     "data": {
      "text/plain": [
       "array([10, 20, 30, 40, 50, 60, 70, 80, 90])"
      ]
     },
     "execution_count": 43,
     "metadata": {},
     "output_type": "execute_result"
    }
   ],
   "source": [
    "array * 10"
   ]
  },
  {
   "cell_type": "code",
   "execution_count": 44,
   "metadata": {},
   "outputs": [
    {
     "data": {
      "text/plain": [
       "array([0.1, 0.2, 0.3, 0.4, 0.5, 0.6, 0.7, 0.8, 0.9])"
      ]
     },
     "execution_count": 44,
     "metadata": {},
     "output_type": "execute_result"
    }
   ],
   "source": [
    "array / 10"
   ]
  },
  {
   "cell_type": "code",
   "execution_count": 45,
   "metadata": {},
   "outputs": [],
   "source": [
    "arr1 = np.array([1, 2, 3])\n",
    "arr2 = np.array([4, 5, 6])"
   ]
  },
  {
   "cell_type": "code",
   "execution_count": 46,
   "metadata": {},
   "outputs": [
    {
     "data": {
      "text/plain": [
       "array([5, 7, 9])"
      ]
     },
     "execution_count": 46,
     "metadata": {},
     "output_type": "execute_result"
    }
   ],
   "source": [
    "arr1 + arr2"
   ]
  },
  {
   "cell_type": "code",
   "execution_count": 47,
   "metadata": {},
   "outputs": [],
   "source": [
    "arr3 = np.array([7, 8])"
   ]
  },
  {
   "cell_type": "code",
   "execution_count": 48,
   "metadata": {},
   "outputs": [
    {
     "ename": "ValueError",
     "evalue": "operands could not be broadcast together with shapes (3,) (2,) ",
     "output_type": "error",
     "traceback": [
      "\u001b[0;31m---------------------------------------------------------------------------\u001b[0m",
      "\u001b[0;31mValueError\u001b[0m                                Traceback (most recent call last)",
      "\u001b[0;32m/tmp/ipykernel_45525/592755465.py\u001b[0m in \u001b[0;36m<module>\u001b[0;34m\u001b[0m\n\u001b[0;32m----> 1\u001b[0;31m \u001b[0marr1\u001b[0m \u001b[0;34m+\u001b[0m \u001b[0marr3\u001b[0m\u001b[0;34m\u001b[0m\u001b[0;34m\u001b[0m\u001b[0m\n\u001b[0m",
      "\u001b[0;31mValueError\u001b[0m: operands could not be broadcast together with shapes (3,) (2,) "
     ]
    }
   ],
   "source": [
    "arr1 + arr3"
   ]
  },
  {
   "cell_type": "code",
   "execution_count": 50,
   "metadata": {},
   "outputs": [
    {
     "data": {
      "text/plain": [
       "array([3, 3, 3])"
      ]
     },
     "execution_count": 50,
     "metadata": {},
     "output_type": "execute_result"
    }
   ],
   "source": [
    "arr2 - arr1"
   ]
  },
  {
   "cell_type": "code",
   "execution_count": 51,
   "metadata": {},
   "outputs": [
    {
     "data": {
      "text/plain": [
       "array([ 4, 10, 18])"
      ]
     },
     "execution_count": 51,
     "metadata": {},
     "output_type": "execute_result"
    }
   ],
   "source": [
    "arr1 * arr2"
   ]
  },
  {
   "cell_type": "code",
   "execution_count": 52,
   "metadata": {},
   "outputs": [
    {
     "data": {
      "text/plain": [
       "array([[1, 2],\n",
       "       [3, 4]])"
      ]
     },
     "execution_count": 52,
     "metadata": {},
     "output_type": "execute_result"
    }
   ],
   "source": [
    "matriz"
   ]
  },
  {
   "cell_type": "code",
   "execution_count": 53,
   "metadata": {},
   "outputs": [],
   "source": [
    "matriz2 = np.array([[1, 2], [3, 4], [5, 6]])"
   ]
  },
  {
   "cell_type": "code",
   "execution_count": 55,
   "metadata": {},
   "outputs": [
    {
     "ename": "ValueError",
     "evalue": "operands could not be broadcast together with shapes (2,2) (3,2) ",
     "output_type": "error",
     "traceback": [
      "\u001b[0;31m---------------------------------------------------------------------------\u001b[0m",
      "\u001b[0;31mValueError\u001b[0m                                Traceback (most recent call last)",
      "\u001b[0;32m/tmp/ipykernel_45525/1355848975.py\u001b[0m in \u001b[0;36m<module>\u001b[0;34m\u001b[0m\n\u001b[0;32m----> 1\u001b[0;31m \u001b[0mmatriz\u001b[0m \u001b[0;34m*\u001b[0m \u001b[0mmatriz2\u001b[0m\u001b[0;34m\u001b[0m\u001b[0;34m\u001b[0m\u001b[0m\n\u001b[0m",
      "\u001b[0;31mValueError\u001b[0m: operands could not be broadcast together with shapes (2,2) (3,2) "
     ]
    }
   ],
   "source": [
    "matriz * matriz2"
   ]
  },
  {
   "cell_type": "code",
   "execution_count": 56,
   "metadata": {},
   "outputs": [
    {
     "data": {
      "text/plain": [
       "array([[1, 2],\n",
       "       [3, 4]])"
      ]
     },
     "execution_count": 56,
     "metadata": {},
     "output_type": "execute_result"
    }
   ],
   "source": [
    "matriz"
   ]
  },
  {
   "cell_type": "code",
   "execution_count": 57,
   "metadata": {},
   "outputs": [
    {
     "data": {
      "text/plain": [
       "array([[1, 2],\n",
       "       [3, 4],\n",
       "       [5, 6]])"
      ]
     },
     "execution_count": 57,
     "metadata": {},
     "output_type": "execute_result"
    }
   ],
   "source": [
    "matriz2"
   ]
  },
  {
   "cell_type": "code",
   "execution_count": 58,
   "metadata": {},
   "outputs": [
    {
     "ename": "ValueError",
     "evalue": "matmul: Input operand 1 has a mismatch in its core dimension 0, with gufunc signature (n?,k),(k,m?)->(n?,m?) (size 3 is different from 2)",
     "output_type": "error",
     "traceback": [
      "\u001b[0;31m---------------------------------------------------------------------------\u001b[0m",
      "\u001b[0;31mValueError\u001b[0m                                Traceback (most recent call last)",
      "\u001b[0;32m/tmp/ipykernel_45525/480994320.py\u001b[0m in \u001b[0;36m<module>\u001b[0;34m\u001b[0m\n\u001b[0;32m----> 1\u001b[0;31m \u001b[0mmatriz\u001b[0m \u001b[0;34m@\u001b[0m \u001b[0mmatriz2\u001b[0m\u001b[0;34m\u001b[0m\u001b[0;34m\u001b[0m\u001b[0m\n\u001b[0m",
      "\u001b[0;31mValueError\u001b[0m: matmul: Input operand 1 has a mismatch in its core dimension 0, with gufunc signature (n?,k),(k,m?)->(n?,m?) (size 3 is different from 2)"
     ]
    }
   ],
   "source": [
    "# Não dá certo!\n",
    "# (2, 2) x (3, 2)\n",
    "matriz @ matriz2"
   ]
  },
  {
   "cell_type": "code",
   "execution_count": 60,
   "metadata": {},
   "outputs": [
    {
     "data": {
      "text/plain": [
       "array([[ 7, 10],\n",
       "       [15, 22],\n",
       "       [23, 34]])"
      ]
     },
     "execution_count": 60,
     "metadata": {},
     "output_type": "execute_result"
    }
   ],
   "source": [
    "# (3, 2) x (2, 2)\n",
    "# Resultado: (3, 2)\n",
    "matriz2 @ matriz"
   ]
  },
  {
   "cell_type": "markdown",
   "metadata": {},
   "source": [
    "### Funções Matemáticas do NumPy\n",
    "\n",
    "> https://numpy.org/doc/stable/reference/routines.math.html"
   ]
  },
  {
   "cell_type": "code",
   "execution_count": 61,
   "metadata": {},
   "outputs": [
    {
     "data": {
      "text/plain": [
       "array([1, 2, 3, 4, 5, 6, 7, 8, 9])"
      ]
     },
     "execution_count": 61,
     "metadata": {},
     "output_type": "execute_result"
    }
   ],
   "source": [
    "array"
   ]
  },
  {
   "cell_type": "code",
   "execution_count": 62,
   "metadata": {},
   "outputs": [
    {
     "data": {
      "text/plain": [
       "array([ 0.84147098,  0.90929743,  0.14112001, -0.7568025 , -0.95892427,\n",
       "       -0.2794155 ,  0.6569866 ,  0.98935825,  0.41211849])"
      ]
     },
     "execution_count": 62,
     "metadata": {},
     "output_type": "execute_result"
    }
   ],
   "source": [
    "np.sin(array)"
   ]
  },
  {
   "cell_type": "code",
   "execution_count": 63,
   "metadata": {},
   "outputs": [
    {
     "data": {
      "text/plain": [
       "array([ 0.54030231, -0.41614684, -0.9899925 , -0.65364362,  0.28366219,\n",
       "        0.96017029,  0.75390225, -0.14550003, -0.91113026])"
      ]
     },
     "execution_count": 63,
     "metadata": {},
     "output_type": "execute_result"
    }
   ],
   "source": [
    "np.cos(array)"
   ]
  },
  {
   "cell_type": "code",
   "execution_count": 64,
   "metadata": {},
   "outputs": [
    {
     "data": {
      "text/plain": [
       "array([2.71828183e+00, 7.38905610e+00, 2.00855369e+01, 5.45981500e+01,\n",
       "       1.48413159e+02, 4.03428793e+02, 1.09663316e+03, 2.98095799e+03,\n",
       "       8.10308393e+03])"
      ]
     },
     "execution_count": 64,
     "metadata": {},
     "output_type": "execute_result"
    }
   ],
   "source": [
    "np.exp(array)"
   ]
  },
  {
   "cell_type": "code",
   "execution_count": 65,
   "metadata": {},
   "outputs": [
    {
     "data": {
      "text/plain": [
       "array([0.        , 0.69314718, 1.09861229, 1.38629436, 1.60943791,\n",
       "       1.79175947, 1.94591015, 2.07944154, 2.19722458])"
      ]
     },
     "execution_count": 65,
     "metadata": {},
     "output_type": "execute_result"
    }
   ],
   "source": [
    "np.log(array)"
   ]
  },
  {
   "cell_type": "code",
   "execution_count": 66,
   "metadata": {},
   "outputs": [
    {
     "data": {
      "text/plain": [
       "array([0.        , 0.30103   , 0.47712125, 0.60205999, 0.69897   ,\n",
       "       0.77815125, 0.84509804, 0.90308999, 0.95424251])"
      ]
     },
     "execution_count": 66,
     "metadata": {},
     "output_type": "execute_result"
    }
   ],
   "source": [
    "np.log10(array)"
   ]
  },
  {
   "cell_type": "code",
   "execution_count": 68,
   "metadata": {},
   "outputs": [
    {
     "data": {
      "text/plain": [
       "array([1, 2, 3, 4, 5, 6, 7, 8, 9])"
      ]
     },
     "execution_count": 68,
     "metadata": {},
     "output_type": "execute_result"
    }
   ],
   "source": [
    "array"
   ]
  },
  {
   "cell_type": "code",
   "execution_count": 67,
   "metadata": {},
   "outputs": [
    {
     "data": {
      "text/plain": [
       "array([ 1,  3,  6, 10, 15, 21, 28, 36, 45])"
      ]
     },
     "execution_count": 67,
     "metadata": {},
     "output_type": "execute_result"
    }
   ],
   "source": [
    "np.cumsum(array)"
   ]
  },
  {
   "cell_type": "markdown",
   "metadata": {},
   "source": [
    "## 7. Métodos estatísticos e outros"
   ]
  },
  {
   "cell_type": "markdown",
   "metadata": {},
   "source": [
    "#### `sum`"
   ]
  },
  {
   "cell_type": "code",
   "execution_count": 69,
   "metadata": {},
   "outputs": [
    {
     "data": {
      "text/plain": [
       "6"
      ]
     },
     "execution_count": 69,
     "metadata": {},
     "output_type": "execute_result"
    }
   ],
   "source": [
    "sum([1, 2, 3])"
   ]
  },
  {
   "cell_type": "code",
   "execution_count": 70,
   "metadata": {},
   "outputs": [
    {
     "data": {
      "text/plain": [
       "45"
      ]
     },
     "execution_count": 70,
     "metadata": {},
     "output_type": "execute_result"
    }
   ],
   "source": [
    "np.sum(array)"
   ]
  },
  {
   "cell_type": "code",
   "execution_count": 71,
   "metadata": {},
   "outputs": [
    {
     "data": {
      "text/plain": [
       "45"
      ]
     },
     "execution_count": 71,
     "metadata": {},
     "output_type": "execute_result"
    }
   ],
   "source": [
    "array.sum()"
   ]
  },
  {
   "cell_type": "code",
   "execution_count": 96,
   "metadata": {},
   "outputs": [
    {
     "data": {
      "text/plain": [
       "array([[1, 2],\n",
       "       [3, 4]])"
      ]
     },
     "execution_count": 96,
     "metadata": {},
     "output_type": "execute_result"
    }
   ],
   "source": [
    "matriz"
   ]
  },
  {
   "cell_type": "code",
   "execution_count": 97,
   "metadata": {},
   "outputs": [
    {
     "data": {
      "text/plain": [
       "10"
      ]
     },
     "execution_count": 97,
     "metadata": {},
     "output_type": "execute_result"
    }
   ],
   "source": [
    "np.sum(matriz)"
   ]
  },
  {
   "cell_type": "code",
   "execution_count": 101,
   "metadata": {},
   "outputs": [
    {
     "data": {
      "text/plain": [
       "array([4, 6])"
      ]
     },
     "execution_count": 101,
     "metadata": {},
     "output_type": "execute_result"
    }
   ],
   "source": [
    "np.sum(matriz, axis=0)"
   ]
  },
  {
   "cell_type": "code",
   "execution_count": 102,
   "metadata": {},
   "outputs": [
    {
     "data": {
      "text/plain": [
       "array([3, 7])"
      ]
     },
     "execution_count": 102,
     "metadata": {},
     "output_type": "execute_result"
    }
   ],
   "source": [
    "np.sum(matriz, axis=1)"
   ]
  },
  {
   "cell_type": "markdown",
   "metadata": {},
   "source": [
    "#### `max` e `argmax`"
   ]
  },
  {
   "cell_type": "code",
   "execution_count": 72,
   "metadata": {},
   "outputs": [
    {
     "data": {
      "text/plain": [
       "9"
      ]
     },
     "execution_count": 72,
     "metadata": {},
     "output_type": "execute_result"
    }
   ],
   "source": [
    "array.max()"
   ]
  },
  {
   "cell_type": "code",
   "execution_count": 73,
   "metadata": {},
   "outputs": [
    {
     "data": {
      "text/plain": [
       "9"
      ]
     },
     "execution_count": 73,
     "metadata": {},
     "output_type": "execute_result"
    }
   ],
   "source": [
    "np.max(array)"
   ]
  },
  {
   "cell_type": "code",
   "execution_count": 74,
   "metadata": {},
   "outputs": [
    {
     "data": {
      "text/plain": [
       "8"
      ]
     },
     "execution_count": 74,
     "metadata": {},
     "output_type": "execute_result"
    }
   ],
   "source": [
    "array.argmax()"
   ]
  },
  {
   "cell_type": "code",
   "execution_count": 75,
   "metadata": {},
   "outputs": [
    {
     "data": {
      "text/plain": [
       "array([1, 2, 3, 4, 5, 6, 7, 8, 9])"
      ]
     },
     "execution_count": 75,
     "metadata": {},
     "output_type": "execute_result"
    }
   ],
   "source": [
    "array"
   ]
  },
  {
   "cell_type": "markdown",
   "metadata": {},
   "source": [
    "#### `min` e `argmin`"
   ]
  },
  {
   "cell_type": "code",
   "execution_count": 76,
   "metadata": {},
   "outputs": [
    {
     "data": {
      "text/plain": [
       "1"
      ]
     },
     "execution_count": 76,
     "metadata": {},
     "output_type": "execute_result"
    }
   ],
   "source": [
    "array.min()"
   ]
  },
  {
   "cell_type": "code",
   "execution_count": 77,
   "metadata": {},
   "outputs": [
    {
     "data": {
      "text/plain": [
       "0"
      ]
     },
     "execution_count": 77,
     "metadata": {},
     "output_type": "execute_result"
    }
   ],
   "source": [
    "array.argmin()"
   ]
  },
  {
   "cell_type": "markdown",
   "metadata": {},
   "source": [
    "#### `mean`"
   ]
  },
  {
   "cell_type": "code",
   "execution_count": 78,
   "metadata": {},
   "outputs": [
    {
     "data": {
      "text/plain": [
       "5.0"
      ]
     },
     "execution_count": 78,
     "metadata": {},
     "output_type": "execute_result"
    }
   ],
   "source": [
    "np.mean(array)"
   ]
  },
  {
   "cell_type": "code",
   "execution_count": 79,
   "metadata": {},
   "outputs": [
    {
     "data": {
      "text/plain": [
       "5.0"
      ]
     },
     "execution_count": 79,
     "metadata": {},
     "output_type": "execute_result"
    }
   ],
   "source": [
    "array.mean()"
   ]
  },
  {
   "cell_type": "markdown",
   "metadata": {},
   "source": [
    "#### Biblioteca de Estatística\n",
    "\n",
    "> `statistics`"
   ]
  },
  {
   "cell_type": "code",
   "execution_count": 81,
   "metadata": {},
   "outputs": [],
   "source": [
    "import statistics as st"
   ]
  },
  {
   "cell_type": "code",
   "execution_count": 85,
   "metadata": {},
   "outputs": [
    {
     "data": {
      "text/plain": [
       "array([2, 3, 2, 3, 3, 2, 1, 3, 3, 4])"
      ]
     },
     "execution_count": 85,
     "metadata": {},
     "output_type": "execute_result"
    }
   ],
   "source": [
    "array_aleatorio = np.random.randint(1, 5, 10)\n",
    "\n",
    "array_aleatorio"
   ]
  },
  {
   "cell_type": "code",
   "execution_count": 86,
   "metadata": {},
   "outputs": [
    {
     "data": {
      "text/plain": [
       "3"
      ]
     },
     "execution_count": 86,
     "metadata": {},
     "output_type": "execute_result"
    }
   ],
   "source": [
    "st.mode(array_aleatorio)"
   ]
  },
  {
   "cell_type": "markdown",
   "metadata": {},
   "source": [
    "## Outros métodos"
   ]
  },
  {
   "cell_type": "markdown",
   "metadata": {},
   "source": [
    "#### `np.repeat`"
   ]
  },
  {
   "cell_type": "code",
   "execution_count": 87,
   "metadata": {},
   "outputs": [],
   "source": [
    "array = np.array([1, 2, 3])"
   ]
  },
  {
   "cell_type": "code",
   "execution_count": 90,
   "metadata": {},
   "outputs": [
    {
     "data": {
      "text/plain": [
       "array([1, 1, 1, 1, 2, 2, 2, 2, 3, 3, 3, 3])"
      ]
     },
     "execution_count": 90,
     "metadata": {},
     "output_type": "execute_result"
    }
   ],
   "source": [
    "np.repeat(array, 4)"
   ]
  },
  {
   "cell_type": "code",
   "execution_count": 95,
   "metadata": {},
   "outputs": [
    {
     "data": {
      "text/plain": [
       "array([1, 1, 2, 2, 3, 3, 4, 4])"
      ]
     },
     "execution_count": 95,
     "metadata": {},
     "output_type": "execute_result"
    }
   ],
   "source": [
    "np.repeat(matriz, 2)"
   ]
  },
  {
   "cell_type": "markdown",
   "metadata": {},
   "source": [
    "#### `np.transpose`"
   ]
  },
  {
   "cell_type": "code",
   "execution_count": 92,
   "metadata": {},
   "outputs": [
    {
     "data": {
      "text/plain": [
       "array([[1, 2],\n",
       "       [3, 4]])"
      ]
     },
     "execution_count": 92,
     "metadata": {},
     "output_type": "execute_result"
    }
   ],
   "source": [
    "matriz"
   ]
  },
  {
   "cell_type": "code",
   "execution_count": 93,
   "metadata": {},
   "outputs": [
    {
     "data": {
      "text/plain": [
       "array([[1, 3],\n",
       "       [2, 4]])"
      ]
     },
     "execution_count": 93,
     "metadata": {},
     "output_type": "execute_result"
    }
   ],
   "source": [
    "np.transpose(matriz)"
   ]
  },
  {
   "cell_type": "code",
   "execution_count": 94,
   "metadata": {},
   "outputs": [
    {
     "data": {
      "text/plain": [
       "array([[1, 3],\n",
       "       [2, 4]])"
      ]
     },
     "execution_count": 94,
     "metadata": {},
     "output_type": "execute_result"
    }
   ],
   "source": [
    "matriz.T"
   ]
  },
  {
   "cell_type": "markdown",
   "metadata": {},
   "source": [
    "#### `reshape`"
   ]
  },
  {
   "cell_type": "code",
   "execution_count": 103,
   "metadata": {},
   "outputs": [
    {
     "data": {
      "text/plain": [
       "array([2, 3, 2, 3, 3, 2, 1, 3, 3, 4])"
      ]
     },
     "execution_count": 103,
     "metadata": {},
     "output_type": "execute_result"
    }
   ],
   "source": [
    "array_aleatorio"
   ]
  },
  {
   "cell_type": "code",
   "execution_count": 104,
   "metadata": {},
   "outputs": [
    {
     "data": {
      "text/plain": [
       "(10,)"
      ]
     },
     "execution_count": 104,
     "metadata": {},
     "output_type": "execute_result"
    }
   ],
   "source": [
    "array_aleatorio.shape"
   ]
  },
  {
   "cell_type": "code",
   "execution_count": 105,
   "metadata": {},
   "outputs": [
    {
     "data": {
      "text/plain": [
       "array([[2, 3],\n",
       "       [2, 3],\n",
       "       [3, 2],\n",
       "       [1, 3],\n",
       "       [3, 4]])"
      ]
     },
     "execution_count": 105,
     "metadata": {},
     "output_type": "execute_result"
    }
   ],
   "source": [
    "array_aleatorio.reshape((5, 2))"
   ]
  },
  {
   "cell_type": "code",
   "execution_count": 106,
   "metadata": {},
   "outputs": [],
   "source": [
    "array_aleatorio = np.random.randint(1, 5, 12)"
   ]
  },
  {
   "cell_type": "code",
   "execution_count": 107,
   "metadata": {},
   "outputs": [
    {
     "data": {
      "text/plain": [
       "array([4, 1, 1, 4, 3, 4, 1, 1, 1, 4, 1, 4])"
      ]
     },
     "execution_count": 107,
     "metadata": {},
     "output_type": "execute_result"
    }
   ],
   "source": [
    "array_aleatorio"
   ]
  },
  {
   "cell_type": "code",
   "execution_count": 108,
   "metadata": {},
   "outputs": [
    {
     "data": {
      "text/plain": [
       "array([[[4, 1],\n",
       "        [1, 4]],\n",
       "\n",
       "       [[3, 4],\n",
       "        [1, 1]],\n",
       "\n",
       "       [[1, 4],\n",
       "        [1, 4]]])"
      ]
     },
     "execution_count": 108,
     "metadata": {},
     "output_type": "execute_result"
    }
   ],
   "source": [
    "array_aleatorio.reshape((3, 2, 2))"
   ]
  },
  {
   "cell_type": "code",
   "execution_count": 109,
   "metadata": {},
   "outputs": [
    {
     "data": {
      "text/plain": [
       "array([4, 1, 1, 4, 3, 4, 1, 1, 1, 4, 1, 4])"
      ]
     },
     "execution_count": 109,
     "metadata": {},
     "output_type": "execute_result"
    }
   ],
   "source": [
    "array_aleatorio"
   ]
  },
  {
   "cell_type": "code",
   "execution_count": 121,
   "metadata": {},
   "outputs": [
    {
     "data": {
      "text/plain": [
       "array([[4, 1, 1],\n",
       "       [4, 3, 4],\n",
       "       [1, 1, 1],\n",
       "       [4, 1, 4]])"
      ]
     },
     "execution_count": 121,
     "metadata": {},
     "output_type": "execute_result"
    }
   ],
   "source": [
    "array_aleatorio.reshape((-1, 3))"
   ]
  },
  {
   "cell_type": "code",
   "execution_count": 117,
   "metadata": {},
   "outputs": [
    {
     "data": {
      "text/plain": [
       "array([[4],\n",
       "       [1],\n",
       "       [1],\n",
       "       [4],\n",
       "       [3],\n",
       "       [4],\n",
       "       [1],\n",
       "       [1],\n",
       "       [1],\n",
       "       [4],\n",
       "       [1],\n",
       "       [4]])"
      ]
     },
     "execution_count": 117,
     "metadata": {},
     "output_type": "execute_result"
    }
   ],
   "source": [
    "array_aleatorio.reshape((-1, 1))"
   ]
  },
  {
   "cell_type": "markdown",
   "metadata": {},
   "source": [
    "#### `np.vstack`"
   ]
  },
  {
   "cell_type": "code",
   "execution_count": 122,
   "metadata": {},
   "outputs": [
    {
     "data": {
      "text/plain": [
       "array([1, 2, 3])"
      ]
     },
     "execution_count": 122,
     "metadata": {},
     "output_type": "execute_result"
    }
   ],
   "source": [
    "array"
   ]
  },
  {
   "cell_type": "code",
   "execution_count": 124,
   "metadata": {},
   "outputs": [
    {
     "data": {
      "text/plain": [
       "array([[1, 2, 3],\n",
       "       [1, 2, 3],\n",
       "       [9, 4, 7]])"
      ]
     },
     "execution_count": 124,
     "metadata": {},
     "output_type": "execute_result"
    }
   ],
   "source": [
    "np.vstack((array, array, np.array([9, 4, 7])))"
   ]
  },
  {
   "cell_type": "markdown",
   "metadata": {},
   "source": [
    "#### `np.hstack`"
   ]
  },
  {
   "cell_type": "code",
   "execution_count": 125,
   "metadata": {},
   "outputs": [
    {
     "data": {
      "text/plain": [
       "array([1, 2, 3, 1, 2, 3])"
      ]
     },
     "execution_count": 125,
     "metadata": {},
     "output_type": "execute_result"
    }
   ],
   "source": [
    "np.hstack((array, array))"
   ]
  },
  {
   "cell_type": "code",
   "execution_count": 126,
   "metadata": {},
   "outputs": [
    {
     "data": {
      "text/plain": [
       "array([[1, 2],\n",
       "       [3, 4]])"
      ]
     },
     "execution_count": 126,
     "metadata": {},
     "output_type": "execute_result"
    }
   ],
   "source": [
    "matriz"
   ]
  },
  {
   "cell_type": "code",
   "execution_count": 130,
   "metadata": {},
   "outputs": [
    {
     "data": {
      "text/plain": [
       "array([[4, 1, 1, 4],\n",
       "       [3, 4, 1, 1],\n",
       "       [1, 4, 1, 4]])"
      ]
     },
     "execution_count": 130,
     "metadata": {},
     "output_type": "execute_result"
    }
   ],
   "source": [
    "array_aleatorio.reshape(-1, 4)"
   ]
  },
  {
   "cell_type": "code",
   "execution_count": 129,
   "metadata": {},
   "outputs": [
    {
     "ename": "ValueError",
     "evalue": "all the input array dimensions for the concatenation axis must match exactly, but along dimension 0, the array at index 0 has size 2 and the array at index 1 has size 3",
     "output_type": "error",
     "traceback": [
      "\u001b[0;31m---------------------------------------------------------------------------\u001b[0m",
      "\u001b[0;31mValueError\u001b[0m                                Traceback (most recent call last)",
      "\u001b[0;32m/tmp/ipykernel_45525/3355569154.py\u001b[0m in \u001b[0;36m<module>\u001b[0;34m\u001b[0m\n\u001b[0;32m----> 1\u001b[0;31m \u001b[0mnp\u001b[0m\u001b[0;34m.\u001b[0m\u001b[0mhstack\u001b[0m\u001b[0;34m(\u001b[0m\u001b[0;34m(\u001b[0m\u001b[0mmatriz\u001b[0m\u001b[0;34m,\u001b[0m \u001b[0marray_aleatorio\u001b[0m\u001b[0;34m.\u001b[0m\u001b[0mreshape\u001b[0m\u001b[0;34m(\u001b[0m\u001b[0;34m-\u001b[0m\u001b[0;36m1\u001b[0m\u001b[0;34m,\u001b[0m \u001b[0;36m4\u001b[0m\u001b[0;34m)\u001b[0m\u001b[0;34m)\u001b[0m\u001b[0;34m)\u001b[0m\u001b[0;34m\u001b[0m\u001b[0;34m\u001b[0m\u001b[0m\n\u001b[0m",
      "\u001b[0;32m~/.local/lib/python3.10/site-packages/numpy/core/overrides.py\u001b[0m in \u001b[0;36mhstack\u001b[0;34m(*args, **kwargs)\u001b[0m\n",
      "\u001b[0;32m~/.local/lib/python3.10/site-packages/numpy/core/shape_base.py\u001b[0m in \u001b[0;36mhstack\u001b[0;34m(tup)\u001b[0m\n\u001b[1;32m    343\u001b[0m         \u001b[0;32mreturn\u001b[0m \u001b[0m_nx\u001b[0m\u001b[0;34m.\u001b[0m\u001b[0mconcatenate\u001b[0m\u001b[0;34m(\u001b[0m\u001b[0marrs\u001b[0m\u001b[0;34m,\u001b[0m \u001b[0;36m0\u001b[0m\u001b[0;34m)\u001b[0m\u001b[0;34m\u001b[0m\u001b[0;34m\u001b[0m\u001b[0m\n\u001b[1;32m    344\u001b[0m     \u001b[0;32melse\u001b[0m\u001b[0;34m:\u001b[0m\u001b[0;34m\u001b[0m\u001b[0;34m\u001b[0m\u001b[0m\n\u001b[0;32m--> 345\u001b[0;31m         \u001b[0;32mreturn\u001b[0m \u001b[0m_nx\u001b[0m\u001b[0;34m.\u001b[0m\u001b[0mconcatenate\u001b[0m\u001b[0;34m(\u001b[0m\u001b[0marrs\u001b[0m\u001b[0;34m,\u001b[0m \u001b[0;36m1\u001b[0m\u001b[0;34m)\u001b[0m\u001b[0;34m\u001b[0m\u001b[0;34m\u001b[0m\u001b[0m\n\u001b[0m\u001b[1;32m    346\u001b[0m \u001b[0;34m\u001b[0m\u001b[0m\n\u001b[1;32m    347\u001b[0m \u001b[0;34m\u001b[0m\u001b[0m\n",
      "\u001b[0;32m~/.local/lib/python3.10/site-packages/numpy/core/overrides.py\u001b[0m in \u001b[0;36mconcatenate\u001b[0;34m(*args, **kwargs)\u001b[0m\n",
      "\u001b[0;31mValueError\u001b[0m: all the input array dimensions for the concatenation axis must match exactly, but along dimension 0, the array at index 0 has size 2 and the array at index 1 has size 3"
     ]
    }
   ],
   "source": [
    "# Não é possível, porque os arrays precisam ter o mesmo shape na horizontal (mesmo número de linhas)\n",
    "np.hstack((matriz, array_aleatorio.reshape(-1, 4)))"
   ]
  },
  {
   "cell_type": "markdown",
   "metadata": {},
   "source": [
    "## 8. Máscaras"
   ]
  },
  {
   "cell_type": "code",
   "execution_count": 5,
   "metadata": {},
   "outputs": [],
   "source": [
    "import numpy as np"
   ]
  },
  {
   "cell_type": "code",
   "execution_count": 7,
   "metadata": {},
   "outputs": [
    {
     "data": {
      "text/plain": [
       "array([  0,   9,   0,   9,   5,  -4,   4,  10, -10,  -4,  -6,  10,  -1,\n",
       "        -7,  -1, -10,  -8,  -4,   1,  -2])"
      ]
     },
     "execution_count": 7,
     "metadata": {},
     "output_type": "execute_result"
    }
   ],
   "source": [
    "array_aleatorio = np.random.randint(-10, 11, 20)\n",
    "\n",
    "array_aleatorio"
   ]
  },
  {
   "cell_type": "code",
   "execution_count": 8,
   "metadata": {},
   "outputs": [
    {
     "data": {
      "text/plain": [
       "array([False,  True, False,  True,  True, False,  True,  True, False,\n",
       "       False, False,  True, False, False, False, False, False, False,\n",
       "        True, False])"
      ]
     },
     "execution_count": 8,
     "metadata": {},
     "output_type": "execute_result"
    }
   ],
   "source": [
    "array_aleatorio > 0 "
   ]
  },
  {
   "cell_type": "code",
   "execution_count": 13,
   "metadata": {},
   "outputs": [],
   "source": [
    "arr = np.array([1, 2, 3])"
   ]
  },
  {
   "cell_type": "code",
   "execution_count": 14,
   "metadata": {},
   "outputs": [
    {
     "data": {
      "text/plain": [
       "1"
      ]
     },
     "execution_count": 14,
     "metadata": {},
     "output_type": "execute_result"
    }
   ],
   "source": [
    "arr[0]"
   ]
  },
  {
   "cell_type": "code",
   "execution_count": 20,
   "metadata": {},
   "outputs": [],
   "source": [
    "arr_filtrado = arr[np.array([True, False, True])]"
   ]
  },
  {
   "cell_type": "code",
   "execution_count": 21,
   "metadata": {},
   "outputs": [
    {
     "data": {
      "text/plain": [
       "array([1, 2, 3])"
      ]
     },
     "execution_count": 21,
     "metadata": {},
     "output_type": "execute_result"
    }
   ],
   "source": [
    "arr"
   ]
  },
  {
   "cell_type": "code",
   "execution_count": 22,
   "metadata": {},
   "outputs": [
    {
     "data": {
      "text/plain": [
       "array([1, 3])"
      ]
     },
     "execution_count": 22,
     "metadata": {},
     "output_type": "execute_result"
    }
   ],
   "source": [
    "arr_filtrado"
   ]
  },
  {
   "cell_type": "code",
   "execution_count": 23,
   "metadata": {},
   "outputs": [
    {
     "data": {
      "text/plain": [
       "array([  0,   9,   0,   9,   5,  -4,   4,  10, -10,  -4,  -6,  10,  -1,\n",
       "        -7,  -1, -10,  -8,  -4,   1,  -2])"
      ]
     },
     "execution_count": 23,
     "metadata": {},
     "output_type": "execute_result"
    }
   ],
   "source": [
    "array_aleatorio"
   ]
  },
  {
   "cell_type": "code",
   "execution_count": 24,
   "metadata": {},
   "outputs": [],
   "source": [
    "mascara = array_aleatorio >= 0"
   ]
  },
  {
   "cell_type": "code",
   "execution_count": 25,
   "metadata": {},
   "outputs": [
    {
     "data": {
      "text/plain": [
       "array([ True,  True,  True,  True,  True, False,  True,  True, False,\n",
       "       False, False,  True, False, False, False, False, False, False,\n",
       "        True, False])"
      ]
     },
     "execution_count": 25,
     "metadata": {},
     "output_type": "execute_result"
    }
   ],
   "source": [
    "mascara"
   ]
  },
  {
   "cell_type": "code",
   "execution_count": 26,
   "metadata": {},
   "outputs": [
    {
     "data": {
      "text/plain": [
       "array([ 0,  9,  0,  9,  5,  4, 10, 10,  1])"
      ]
     },
     "execution_count": 26,
     "metadata": {},
     "output_type": "execute_result"
    }
   ],
   "source": [
    "array_aleatorio[mascara]"
   ]
  },
  {
   "cell_type": "code",
   "execution_count": 27,
   "metadata": {},
   "outputs": [
    {
     "data": {
      "text/plain": [
       "array([ 0,  9,  0,  9,  5,  4, 10, 10,  1])"
      ]
     },
     "execution_count": 27,
     "metadata": {},
     "output_type": "execute_result"
    }
   ],
   "source": [
    "array_aleatorio[array_aleatorio >= 0]"
   ]
  },
  {
   "cell_type": "code",
   "execution_count": 29,
   "metadata": {},
   "outputs": [
    {
     "data": {
      "text/plain": [
       "array([0, 0, 5, 4, 1])"
      ]
     },
     "execution_count": 29,
     "metadata": {},
     "output_type": "execute_result"
    }
   ],
   "source": [
    "array_aleatorio[(array_aleatorio >= 0) & (array_aleatorio <= 5)]"
   ]
  },
  {
   "cell_type": "code",
   "execution_count": 30,
   "metadata": {},
   "outputs": [
    {
     "data": {
      "text/plain": [
       "array([  9,   9,   5,  10, -10,  -6,  10,  -7, -10,  -8])"
      ]
     },
     "execution_count": 30,
     "metadata": {},
     "output_type": "execute_result"
    }
   ],
   "source": [
    "array_aleatorio[(array_aleatorio >= 5) | (array_aleatorio <= -5)]"
   ]
  },
  {
   "cell_type": "code",
   "execution_count": 33,
   "metadata": {},
   "outputs": [
    {
     "data": {
      "text/plain": [
       "array([ True, False,  True, False,  True, False,  True, False, False,\n",
       "       False, False, False, False, False, False, False, False, False,\n",
       "        True, False])"
      ]
     },
     "execution_count": 33,
     "metadata": {},
     "output_type": "execute_result"
    }
   ],
   "source": [
    "np.bitwise_and(array_aleatorio >= 0, array_aleatorio <= 5)"
   ]
  }
 ],
 "metadata": {
  "kernelspec": {
   "display_name": "Python 3",
   "language": "python",
   "name": "python3"
  },
  "language_info": {
   "codemirror_mode": {
    "name": "ipython",
    "version": 3
   },
   "file_extension": ".py",
   "mimetype": "text/x-python",
   "name": "python",
   "nbconvert_exporter": "python",
   "pygments_lexer": "ipython3",
   "version": "3.9.7"
  }
 },
 "nbformat": 4,
 "nbformat_minor": 4
}
